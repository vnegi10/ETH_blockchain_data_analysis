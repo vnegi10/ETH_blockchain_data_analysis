{
 "cells": [
  {
   "cell_type": "code",
   "execution_count": 1,
   "id": "b48c2534-d9f5-4a0e-ae3f-911979cd3929",
   "metadata": {
    "tags": []
   },
   "outputs": [
    {
     "name": "stdout",
     "output_type": "stream",
     "text": [
      "1.2.0\n"
     ]
    }
   ],
   "source": [
    "import duckdb\n",
    "print(duckdb.__version__)\n",
    "import os"
   ]
  },
  {
   "cell_type": "markdown",
   "id": "9dd07538-055e-49db-bec2-14baa52bbd1c",
   "metadata": {},
   "source": [
    "## Ingest data"
   ]
  },
  {
   "cell_type": "code",
   "execution_count": 2,
   "id": "05cc4de9-c1d7-4fcc-84b0-5973b9df1e2a",
   "metadata": {
    "tags": []
   },
   "outputs": [],
   "source": [
    "y  = \"/mnt/ugreen/HuggingFace/Ethereum_blockchain_parquet\"\n",
    "y2 = \"/mnt/ugreen/Eth_pq_sample/Ethereum_blockchain_parquet_full_zstd_10\"\n",
    "y3 = \"/mnt/ugreen/Ethereum_blockchain_parquet_full_zstd_10\"\n",
    "\n",
    "def get_blocks_folder(folder):\n",
    "    return os.path.join(folder, \"blocks\", \"*.parquet\")\n",
    "\n",
    "def get_tx_folder(folder):\n",
    "    return os.path.join(folder, \"transactions\", \"*.parquet\")"
   ]
  },
  {
   "cell_type": "code",
   "execution_count": 3,
   "id": "91331c88-d7bc-4c7a-9997-752952f28dd6",
   "metadata": {
    "tags": []
   },
   "outputs": [],
   "source": [
    "def ingest_pq(*cols, folder):\n",
    "\n",
    "    # Convert column names to a comma-separated string\n",
    "    col_str = \", \".join(cols) if cols else \"*\"\n",
    "\n",
    "    pq_input = duckdb.sql(f\"\"\"\n",
    "                           SELECT {col_str} \n",
    "                           FROM read_parquet('{folder}')\n",
    "                           \"\"\")\n",
    "\n",
    "    return pq_input"
   ]
  },
  {
   "cell_type": "markdown",
   "id": "c750423d-a0b9-42d5-afab-c92ee8517944",
   "metadata": {},
   "source": [
    "## Run query"
   ]
  },
  {
   "cell_type": "markdown",
   "id": "1ddb6042-64a8-45f6-98a4-560ae70dcefc",
   "metadata": {},
   "source": [
    "### Count"
   ]
  },
  {
   "cell_type": "code",
   "execution_count": 4,
   "id": "03b1730c-5401-4934-bcc3-55cf4f2f893f",
   "metadata": {
    "tags": []
   },
   "outputs": [],
   "source": [
    "def get_num_rows(folder):\n",
    "\n",
    "    one_col = ingest_pq(\"block_number\", folder = folder)\n",
    "\n",
    "    num_rows = duckdb.sql(\"\"\"\n",
    "                          SELECT COUNT(*) FROM one_col\n",
    "                          \"\"\")\n",
    "\n",
    "    print(num_rows)\n",
    "\n",
    "    return None    "
   ]
  },
  {
   "cell_type": "code",
   "execution_count": 7,
   "id": "2f3cf085-ef30-4a25-ab35-d4fe362774a8",
   "metadata": {
    "tags": []
   },
   "outputs": [
    {
     "name": "stdout",
     "output_type": "stream",
     "text": [
      "┌──────────────┐\n",
      "│ count_star() │\n",
      "│    int64     │\n",
      "├──────────────┤\n",
      "│       634440 │\n",
      "└──────────────┘\n",
      "\n",
      "CPU times: user 28.3 ms, sys: 11.8 ms, total: 40.1 ms\n",
      "Wall time: 18.1 ms\n"
     ]
    }
   ],
   "source": [
    "%%time\n",
    "\n",
    "get_num_rows(get_blocks_folder(y))"
   ]
  },
  {
   "cell_type": "code",
   "execution_count": 8,
   "id": "cfdc20ce-8c68-4d11-80aa-62d9250b2749",
   "metadata": {
    "tags": []
   },
   "outputs": [
    {
     "name": "stdout",
     "output_type": "stream",
     "text": [
      "┌──────────────┐\n",
      "│ count_star() │\n",
      "│    int64     │\n",
      "├──────────────┤\n",
      "│     93492934 │\n",
      "└──────────────┘\n",
      "\n",
      "CPU times: user 126 ms, sys: 11.5 ms, total: 138 ms\n",
      "Wall time: 47.3 ms\n"
     ]
    }
   ],
   "source": [
    "%%time\n",
    "\n",
    "get_num_rows(get_tx_folder(y))"
   ]
  },
  {
   "cell_type": "markdown",
   "id": "6906388a-2857-4b37-9338-78174a0ebb05",
   "metadata": {},
   "source": [
    "### Get time range"
   ]
  },
  {
   "cell_type": "code",
   "execution_count": 10,
   "id": "c68affb0-c861-40d3-9d32-b8f11496ce56",
   "metadata": {
    "tags": []
   },
   "outputs": [],
   "source": [
    "def get_time_range(folder):\n",
    "\n",
    "    one_col = ingest_pq(\"timestamp\", folder = folder)\n",
    "\n",
    "    min_max_time = duckdb.sql(\"\"\"\n",
    "                    SELECT \n",
    "                    MIN(TO_TIMESTAMP(timestamp)) FILTER (WHERE timestamp > 0) AS min_time, \n",
    "                    MAX(TO_TIMESTAMP(timestamp)) AS max_time\n",
    "                    FROM one_col   \n",
    "                    \"\"\")\n",
    "\n",
    "    return min_max_time   "
   ]
  },
  {
   "cell_type": "code",
   "execution_count": 11,
   "id": "709e750d-30b2-48f4-a273-9a7c00def53d",
   "metadata": {
    "tags": []
   },
   "outputs": [
    {
     "name": "stdout",
     "output_type": "stream",
     "text": [
      "CPU times: user 1.55 ms, sys: 3 ms, total: 4.55 ms\n",
      "Wall time: 3.66 ms\n"
     ]
    },
    {
     "data": {
      "text/plain": [
       "┌──────────────────────────┬──────────────────────────┐\n",
       "│         min_time         │         max_time         │\n",
       "│ timestamp with time zone │ timestamp with time zone │\n",
       "├──────────────────────────┼──────────────────────────┤\n",
       "│ 2016-11-17 01:40:08+01   │ 2025-03-25 22:17:35+01   │\n",
       "└──────────────────────────┴──────────────────────────┘"
      ]
     },
     "execution_count": 11,
     "metadata": {},
     "output_type": "execute_result"
    }
   ],
   "source": [
    "%%time\n",
    "\n",
    "get_time_range(get_blocks_folder(y))"
   ]
  },
  {
   "cell_type": "markdown",
   "id": "2926e7de-5298-4841-8751-69ee23c4e4a5",
   "metadata": {},
   "source": [
    "### Filter blocks"
   ]
  },
  {
   "cell_type": "code",
   "execution_count": 12,
   "id": "d33354ae-6438-4353-b030-bef5cbb4f3c0",
   "metadata": {
    "tags": []
   },
   "outputs": [],
   "source": [
    "def get_blocks_filtered(t_start, t_end, folder):\n",
    "\n",
    "    dim_cols = ingest_pq(\"block_number\", \"timestamp\",\n",
    "                          folder = folder)\n",
    "\n",
    "    filter_blocks = duckdb.sql(f\"\"\"\n",
    "                                SELECT \n",
    "                                TO_TIMESTAMP(timestamp) AS timestamp, \n",
    "                                block_number\n",
    "                                FROM dim_cols\n",
    "                                WHERE TO_TIMESTAMP(timestamp) \n",
    "                                BETWEEN '{t_start}' AND '{t_end}'\n",
    "                               \"\"\")\n",
    "\n",
    "    return filter_blocks    "
   ]
  },
  {
   "cell_type": "code",
   "execution_count": 13,
   "id": "43e00ec6-5728-4420-8630-31fd47057f80",
   "metadata": {
    "tags": []
   },
   "outputs": [],
   "source": [
    "# %%time\n",
    "\n",
    "# get_blocks_filtered(\"2022-01-01\", \"2024-12-31\")"
   ]
  },
  {
   "cell_type": "markdown",
   "id": "8971f947-c3ac-4110-931c-00a4472fdf87",
   "metadata": {},
   "source": [
    "### Block level analytics"
   ]
  },
  {
   "cell_type": "markdown",
   "id": "cb15462c-5c3d-4d42-baf8-498236dc6531",
   "metadata": {},
   "source": [
    "#### Tx count per block"
   ]
  },
  {
   "cell_type": "code",
   "execution_count": 14,
   "id": "90a97a5c-99ef-4d8b-8d1e-8a2e80651900",
   "metadata": {
    "tags": []
   },
   "outputs": [],
   "source": [
    "def get_tx_count_per_block(t_start, t_end, folder):\n",
    "    \n",
    "    blocks = get_blocks_filtered(t_start, t_end, get_blocks_folder(folder))\n",
    "\n",
    "    tx_cols = ingest_pq(\"block_number\",\n",
    "                        \"success\",\n",
    "                        folder = get_tx_folder(folder)\n",
    "                       )\n",
    "    \n",
    "    tx_cols_success = duckdb.sql(\"\"\"\n",
    "                                 SELECT * FROM tx_cols\n",
    "                                 WHERE tx_cols.success = TRUE\n",
    "                                 \"\"\")\n",
    "\n",
    "    count_per_block = duckdb.sql(\"\"\"\n",
    "                                SELECT \n",
    "                                    tx_cols_success.block_number, \n",
    "                                    blocks.timestamp, \n",
    "                                    COUNT(*) AS count_tx\n",
    "                                FROM tx_cols_success\n",
    "                                INNER JOIN blocks \n",
    "                                    ON tx_cols_success.block_number = blocks.block_number\n",
    "                                GROUP BY \n",
    "                                    tx_cols_success.block_number, \n",
    "                                    blocks.timestamp\n",
    "                                ORDER BY count_tx DESC\n",
    "                                LIMIT 100\n",
    "                                \"\"\").df()        \n",
    "       \n",
    "    return count_per_block"
   ]
  },
  {
   "cell_type": "code",
   "execution_count": 21,
   "id": "7b707848-99da-476f-b41a-9837d138b4be",
   "metadata": {
    "tags": []
   },
   "outputs": [
    {
     "name": "stdout",
     "output_type": "stream",
     "text": [
      "CPU times: user 3.84 s, sys: 120 ms, total: 3.96 s\n",
      "Wall time: 208 ms\n"
     ]
    },
    {
     "data": {
      "text/html": [
       "<div>\n",
       "<style scoped>\n",
       "    .dataframe tbody tr th:only-of-type {\n",
       "        vertical-align: middle;\n",
       "    }\n",
       "\n",
       "    .dataframe tbody tr th {\n",
       "        vertical-align: top;\n",
       "    }\n",
       "\n",
       "    .dataframe thead th {\n",
       "        text-align: right;\n",
       "    }\n",
       "</style>\n",
       "<table border=\"1\" class=\"dataframe\">\n",
       "  <thead>\n",
       "    <tr style=\"text-align: right;\">\n",
       "      <th></th>\n",
       "      <th>block_number</th>\n",
       "      <th>timestamp</th>\n",
       "      <th>count_tx</th>\n",
       "    </tr>\n",
       "  </thead>\n",
       "  <tbody>\n",
       "    <tr>\n",
       "      <th>0</th>\n",
       "      <td>13330992</td>\n",
       "      <td>2021-10-01 05:19:25+02:00</td>\n",
       "      <td>1425</td>\n",
       "    </tr>\n",
       "    <tr>\n",
       "      <th>1</th>\n",
       "      <td>13331492</td>\n",
       "      <td>2021-10-01 07:13:20+02:00</td>\n",
       "      <td>1413</td>\n",
       "    </tr>\n",
       "    <tr>\n",
       "      <th>2</th>\n",
       "      <td>15471742</td>\n",
       "      <td>2022-09-04 14:50:39+02:00</td>\n",
       "      <td>1402</td>\n",
       "    </tr>\n",
       "    <tr>\n",
       "      <th>3</th>\n",
       "      <td>15273992</td>\n",
       "      <td>2022-08-04 07:25:20+02:00</td>\n",
       "      <td>1399</td>\n",
       "    </tr>\n",
       "    <tr>\n",
       "      <th>4</th>\n",
       "      <td>13235517</td>\n",
       "      <td>2021-09-16 09:49:44+02:00</td>\n",
       "      <td>1393</td>\n",
       "    </tr>\n",
       "    <tr>\n",
       "      <th>...</th>\n",
       "      <td>...</td>\n",
       "      <td>...</td>\n",
       "      <td>...</td>\n",
       "    </tr>\n",
       "    <tr>\n",
       "      <th>95</th>\n",
       "      <td>20137892</td>\n",
       "      <td>2024-06-21 07:05:47+02:00</td>\n",
       "      <td>1082</td>\n",
       "    </tr>\n",
       "    <tr>\n",
       "      <th>96</th>\n",
       "      <td>13657742</td>\n",
       "      <td>2021-11-21 11:53:26+01:00</td>\n",
       "      <td>1082</td>\n",
       "    </tr>\n",
       "    <tr>\n",
       "      <th>97</th>\n",
       "      <td>13795742</td>\n",
       "      <td>2021-12-13 09:32:27+01:00</td>\n",
       "      <td>1077</td>\n",
       "    </tr>\n",
       "    <tr>\n",
       "      <th>98</th>\n",
       "      <td>15553367</td>\n",
       "      <td>2022-09-17 14:41:35+02:00</td>\n",
       "      <td>1069</td>\n",
       "    </tr>\n",
       "    <tr>\n",
       "      <th>99</th>\n",
       "      <td>17874017</td>\n",
       "      <td>2023-08-09 03:17:35+02:00</td>\n",
       "      <td>1068</td>\n",
       "    </tr>\n",
       "  </tbody>\n",
       "</table>\n",
       "<p>100 rows × 3 columns</p>\n",
       "</div>"
      ],
      "text/plain": [
       "    block_number                 timestamp  count_tx\n",
       "0       13330992 2021-10-01 05:19:25+02:00      1425\n",
       "1       13331492 2021-10-01 07:13:20+02:00      1413\n",
       "2       15471742 2022-09-04 14:50:39+02:00      1402\n",
       "3       15273992 2022-08-04 07:25:20+02:00      1399\n",
       "4       13235517 2021-09-16 09:49:44+02:00      1393\n",
       "..           ...                       ...       ...\n",
       "95      20137892 2024-06-21 07:05:47+02:00      1082\n",
       "96      13657742 2021-11-21 11:53:26+01:00      1082\n",
       "97      13795742 2021-12-13 09:32:27+01:00      1077\n",
       "98      15553367 2022-09-17 14:41:35+02:00      1069\n",
       "99      17874017 2023-08-09 03:17:35+02:00      1068\n",
       "\n",
       "[100 rows x 3 columns]"
      ]
     },
     "execution_count": 21,
     "metadata": {},
     "output_type": "execute_result"
    }
   ],
   "source": [
    "%%time\n",
    "\n",
    "get_tx_count_per_block(\"2020-01-01\", \"2025-01-01\", y)"
   ]
  },
  {
   "cell_type": "code",
   "execution_count": 19,
   "id": "8cb3c472-0816-4dde-832e-c2d626fb5730",
   "metadata": {
    "tags": []
   },
   "outputs": [],
   "source": [
    "# %%time\n",
    "\n",
    "# get_tx_count_per_block(\"2023-09-01\", \"2025-03-01\", y2)"
   ]
  },
  {
   "cell_type": "markdown",
   "id": "9137047a-8808-4542-858e-f5e307daf48f",
   "metadata": {},
   "source": [
    "#### Get total ETH per block"
   ]
  },
  {
   "cell_type": "code",
   "execution_count": 22,
   "id": "59f7f31f-531a-4708-bbab-7d50b57f16bc",
   "metadata": {
    "tags": []
   },
   "outputs": [],
   "source": [
    "def get_eth_per_block(t_start, t_end, folder):\n",
    "    \n",
    "    blocks = get_blocks_filtered(t_start, t_end, get_blocks_folder(folder))\n",
    "\n",
    "    tx_cols = ingest_pq(\"block_number\",\n",
    "                        \"success\",\n",
    "                        \"value_f64\",\n",
    "                        folder = get_tx_folder(folder)\n",
    "                       )\n",
    "    \n",
    "    tx_cols_success = duckdb.sql(\"\"\"\n",
    "                                 SELECT * FROM tx_cols\n",
    "                                 WHERE tx_cols.success = TRUE\n",
    "                                 \"\"\")\n",
    "\n",
    "    eth_per_block = duckdb.sql(\"\"\"\n",
    "                                SELECT \n",
    "                                tx_cols_success.block_number, \n",
    "                                blocks.timestamp, \n",
    "                                COUNT(*) AS count_tx,\n",
    "                                SUM(tx_cols_success.value_f64 / 1e18) AS total_tx_eth\n",
    "                                FROM tx_cols_success\n",
    "                                INNER JOIN blocks \n",
    "                                    ON tx_cols_success.block_number = blocks.block_number\n",
    "                                GROUP BY \n",
    "                                    tx_cols_success.block_number, \n",
    "                                    blocks.timestamp\n",
    "                                ORDER BY total_tx_eth DESC\n",
    "                                LIMIT 100\n",
    "                                \"\"\").df()    \n",
    "       \n",
    "    return eth_per_block"
   ]
  },
  {
   "cell_type": "code",
   "execution_count": 24,
   "id": "fba56e6c-cea1-499b-8f34-144098353685",
   "metadata": {
    "tags": []
   },
   "outputs": [
    {
     "name": "stdout",
     "output_type": "stream",
     "text": [
      "CPU times: user 4.85 s, sys: 241 ms, total: 5.09 s\n",
      "Wall time: 259 ms\n"
     ]
    },
    {
     "data": {
      "text/html": [
       "<div>\n",
       "<style scoped>\n",
       "    .dataframe tbody tr th:only-of-type {\n",
       "        vertical-align: middle;\n",
       "    }\n",
       "\n",
       "    .dataframe tbody tr th {\n",
       "        vertical-align: top;\n",
       "    }\n",
       "\n",
       "    .dataframe thead th {\n",
       "        text-align: right;\n",
       "    }\n",
       "</style>\n",
       "<table border=\"1\" class=\"dataframe\">\n",
       "  <thead>\n",
       "    <tr style=\"text-align: right;\">\n",
       "      <th></th>\n",
       "      <th>block_number</th>\n",
       "      <th>timestamp</th>\n",
       "      <th>count_tx</th>\n",
       "      <th>total_tx_eth</th>\n",
       "    </tr>\n",
       "  </thead>\n",
       "  <tbody>\n",
       "    <tr>\n",
       "      <th>0</th>\n",
       "      <td>10328842</td>\n",
       "      <td>2020-06-24 15:54:49+02:00</td>\n",
       "      <td>206</td>\n",
       "      <td>789744.896731</td>\n",
       "    </tr>\n",
       "    <tr>\n",
       "      <th>1</th>\n",
       "      <td>15093817</td>\n",
       "      <td>2022-07-07 08:30:47+02:00</td>\n",
       "      <td>353</td>\n",
       "      <td>598912.604601</td>\n",
       "    </tr>\n",
       "    <tr>\n",
       "      <th>2</th>\n",
       "      <td>12506592</td>\n",
       "      <td>2021-05-26 01:59:57+02:00</td>\n",
       "      <td>136</td>\n",
       "      <td>527673.911818</td>\n",
       "    </tr>\n",
       "    <tr>\n",
       "      <th>3</th>\n",
       "      <td>12461692</td>\n",
       "      <td>2021-05-19 02:44:33+02:00</td>\n",
       "      <td>261</td>\n",
       "      <td>500081.936254</td>\n",
       "    </tr>\n",
       "    <tr>\n",
       "      <th>4</th>\n",
       "      <td>15433542</td>\n",
       "      <td>2022-08-29 12:19:06+02:00</td>\n",
       "      <td>249</td>\n",
       "      <td>500057.213779</td>\n",
       "    </tr>\n",
       "    <tr>\n",
       "      <th>...</th>\n",
       "      <td>...</td>\n",
       "      <td>...</td>\n",
       "      <td>...</td>\n",
       "      <td>...</td>\n",
       "    </tr>\n",
       "    <tr>\n",
       "      <th>95</th>\n",
       "      <td>15946367</td>\n",
       "      <td>2022-11-11 12:05:35+01:00</td>\n",
       "      <td>131</td>\n",
       "      <td>50059.604783</td>\n",
       "    </tr>\n",
       "    <tr>\n",
       "      <th>96</th>\n",
       "      <td>21128917</td>\n",
       "      <td>2024-11-06 14:30:35+01:00</td>\n",
       "      <td>191</td>\n",
       "      <td>50041.179866</td>\n",
       "    </tr>\n",
       "    <tr>\n",
       "      <th>97</th>\n",
       "      <td>12839192</td>\n",
       "      <td>2021-07-16 19:15:58+02:00</td>\n",
       "      <td>243</td>\n",
       "      <td>50040.950173</td>\n",
       "    </tr>\n",
       "    <tr>\n",
       "      <th>98</th>\n",
       "      <td>18484467</td>\n",
       "      <td>2023-11-02 13:42:23+01:00</td>\n",
       "      <td>160</td>\n",
       "      <td>50031.292705</td>\n",
       "    </tr>\n",
       "    <tr>\n",
       "      <th>99</th>\n",
       "      <td>15978942</td>\n",
       "      <td>2022-11-16 01:14:59+01:00</td>\n",
       "      <td>250</td>\n",
       "      <td>49575.360566</td>\n",
       "    </tr>\n",
       "  </tbody>\n",
       "</table>\n",
       "<p>100 rows × 4 columns</p>\n",
       "</div>"
      ],
      "text/plain": [
       "    block_number                 timestamp  count_tx   total_tx_eth\n",
       "0       10328842 2020-06-24 15:54:49+02:00       206  789744.896731\n",
       "1       15093817 2022-07-07 08:30:47+02:00       353  598912.604601\n",
       "2       12506592 2021-05-26 01:59:57+02:00       136  527673.911818\n",
       "3       12461692 2021-05-19 02:44:33+02:00       261  500081.936254\n",
       "4       15433542 2022-08-29 12:19:06+02:00       249  500057.213779\n",
       "..           ...                       ...       ...            ...\n",
       "95      15946367 2022-11-11 12:05:35+01:00       131   50059.604783\n",
       "96      21128917 2024-11-06 14:30:35+01:00       191   50041.179866\n",
       "97      12839192 2021-07-16 19:15:58+02:00       243   50040.950173\n",
       "98      18484467 2023-11-02 13:42:23+01:00       160   50031.292705\n",
       "99      15978942 2022-11-16 01:14:59+01:00       250   49575.360566\n",
       "\n",
       "[100 rows x 4 columns]"
      ]
     },
     "execution_count": 24,
     "metadata": {},
     "output_type": "execute_result"
    }
   ],
   "source": [
    "%%time\n",
    "\n",
    "get_eth_per_block(\"2020-01-01\", \"2025-01-01\", y)"
   ]
  },
  {
   "cell_type": "code",
   "execution_count": 25,
   "id": "a41aee13-a953-4e81-8da2-fcbe135efe6e",
   "metadata": {
    "tags": []
   },
   "outputs": [],
   "source": [
    "# %%time\n",
    "\n",
    "# get_eth_per_block(\"2023-01-01\", \"2025-01-01\", y3)"
   ]
  },
  {
   "cell_type": "markdown",
   "id": "a84f8ef7-411d-4216-ba95-c56d46ded780",
   "metadata": {},
   "source": [
    "#### Get total gas used % per block"
   ]
  },
  {
   "cell_type": "code",
   "execution_count": 42,
   "id": "b2cf9bd7-65ed-4d87-ad02-7fb0f5dc04d7",
   "metadata": {
    "tags": []
   },
   "outputs": [],
   "source": [
    "def get_gas_per_block(t_start, t_end, folder):\n",
    "    \n",
    "    blocks = get_blocks_filtered(t_start, t_end, get_blocks_folder(folder))\n",
    "\n",
    "    tx_cols = ingest_pq(\"block_number\",\n",
    "                        \"success\",\n",
    "                        \"gas_limit\",\n",
    "                        \"gas_used\",\n",
    "                        folder = get_tx_folder(folder)\n",
    "                       )\n",
    "    \n",
    "    tx_cols_success = duckdb.sql(\"\"\"\n",
    "                                 SELECT * FROM tx_cols\n",
    "                                 WHERE tx_cols.success = TRUE\n",
    "                                 \"\"\")\n",
    "\n",
    "    gas_per_block = duckdb.sql(\"\"\"\n",
    "                                SELECT \n",
    "                                    tx.block_number, \n",
    "                                    b.timestamp, \n",
    "                                    SUM(tx.gas_limit) AS sum_gas_limit,\n",
    "                                    SUM(tx.gas_used) AS sum_gas_used,\n",
    "                                    (SUM(tx.gas_used) * 100.0 / NULLIF(SUM(tx.gas_limit), 0)) AS gas_pert\n",
    "                                FROM tx_cols_success tx\n",
    "                                INNER JOIN blocks b\n",
    "                                    ON tx.block_number = b.block_number\n",
    "                                GROUP BY \n",
    "                                    tx.block_number, \n",
    "                                    b.timestamp\n",
    "                                -- ORDER BY sum_gas_used DESC\n",
    "                                -- LIMIT 100;\n",
    "                                \"\"\")    \n",
    "       \n",
    "    return gas_per_block"
   ]
  },
  {
   "cell_type": "code",
   "execution_count": 43,
   "id": "51c9c454-4578-4414-8cf0-49eb758aace0",
   "metadata": {
    "tags": []
   },
   "outputs": [
    {
     "name": "stdout",
     "output_type": "stream",
     "text": [
      "CPU times: user 6.39 s, sys: 437 ms, total: 6.82 s\n",
      "Wall time: 369 ms\n"
     ]
    },
    {
     "data": {
      "text/html": [
       "<div>\n",
       "<style scoped>\n",
       "    .dataframe tbody tr th:only-of-type {\n",
       "        vertical-align: middle;\n",
       "    }\n",
       "\n",
       "    .dataframe tbody tr th {\n",
       "        vertical-align: top;\n",
       "    }\n",
       "\n",
       "    .dataframe thead th {\n",
       "        text-align: right;\n",
       "    }\n",
       "</style>\n",
       "<table border=\"1\" class=\"dataframe\">\n",
       "  <thead>\n",
       "    <tr style=\"text-align: right;\">\n",
       "      <th></th>\n",
       "      <th>block_number</th>\n",
       "      <th>timestamp</th>\n",
       "      <th>sum_gas_limit</th>\n",
       "      <th>sum_gas_used</th>\n",
       "      <th>gas_pert</th>\n",
       "    </tr>\n",
       "  </thead>\n",
       "  <tbody>\n",
       "    <tr>\n",
       "      <th>0</th>\n",
       "      <td>10105342</td>\n",
       "      <td>2020-05-20 23:55:41+02:00</td>\n",
       "      <td>41941547.0</td>\n",
       "      <td>9724227.0</td>\n",
       "      <td>23.185189</td>\n",
       "    </tr>\n",
       "    <tr>\n",
       "      <th>1</th>\n",
       "      <td>10105492</td>\n",
       "      <td>2020-05-21 00:25:25+02:00</td>\n",
       "      <td>24493493.0</td>\n",
       "      <td>9731077.0</td>\n",
       "      <td>39.729233</td>\n",
       "    </tr>\n",
       "    <tr>\n",
       "      <th>2</th>\n",
       "      <td>10106217</td>\n",
       "      <td>2020-05-21 03:08:37+02:00</td>\n",
       "      <td>18920770.0</td>\n",
       "      <td>9900962.0</td>\n",
       "      <td>52.328536</td>\n",
       "    </tr>\n",
       "    <tr>\n",
       "      <th>3</th>\n",
       "      <td>10106942</td>\n",
       "      <td>2020-05-21 05:56:10+02:00</td>\n",
       "      <td>19393508.0</td>\n",
       "      <td>7090103.0</td>\n",
       "      <td>36.559157</td>\n",
       "    </tr>\n",
       "    <tr>\n",
       "      <th>4</th>\n",
       "      <td>10107067</td>\n",
       "      <td>2020-05-21 06:28:02+02:00</td>\n",
       "      <td>22640658.0</td>\n",
       "      <td>9638365.0</td>\n",
       "      <td>42.571046</td>\n",
       "    </tr>\n",
       "    <tr>\n",
       "      <th>...</th>\n",
       "      <td>...</td>\n",
       "      <td>...</td>\n",
       "      <td>...</td>\n",
       "      <td>...</td>\n",
       "      <td>...</td>\n",
       "    </tr>\n",
       "    <tr>\n",
       "      <th>403503</th>\n",
       "      <td>21496242</td>\n",
       "      <td>2024-12-27 21:39:47+01:00</td>\n",
       "      <td>42343246.0</td>\n",
       "      <td>30002096.0</td>\n",
       "      <td>70.854502</td>\n",
       "    </tr>\n",
       "    <tr>\n",
       "      <th>403504</th>\n",
       "      <td>21496292</td>\n",
       "      <td>2024-12-27 21:49:47+01:00</td>\n",
       "      <td>27462335.0</td>\n",
       "      <td>12158449.0</td>\n",
       "      <td>44.273180</td>\n",
       "    </tr>\n",
       "    <tr>\n",
       "      <th>403505</th>\n",
       "      <td>21496542</td>\n",
       "      <td>2024-12-27 22:40:11+01:00</td>\n",
       "      <td>33487709.0</td>\n",
       "      <td>14529438.0</td>\n",
       "      <td>43.387375</td>\n",
       "    </tr>\n",
       "    <tr>\n",
       "      <th>403506</th>\n",
       "      <td>21497067</td>\n",
       "      <td>2024-12-28 00:25:59+01:00</td>\n",
       "      <td>22112984.0</td>\n",
       "      <td>12737747.0</td>\n",
       "      <td>57.603022</td>\n",
       "    </tr>\n",
       "    <tr>\n",
       "      <th>403507</th>\n",
       "      <td>21497292</td>\n",
       "      <td>2024-12-28 01:11:23+01:00</td>\n",
       "      <td>20386679.0</td>\n",
       "      <td>7089854.0</td>\n",
       "      <td>34.776895</td>\n",
       "    </tr>\n",
       "  </tbody>\n",
       "</table>\n",
       "<p>403508 rows × 5 columns</p>\n",
       "</div>"
      ],
      "text/plain": [
       "        block_number                 timestamp  sum_gas_limit  sum_gas_used  \\\n",
       "0           10105342 2020-05-20 23:55:41+02:00     41941547.0     9724227.0   \n",
       "1           10105492 2020-05-21 00:25:25+02:00     24493493.0     9731077.0   \n",
       "2           10106217 2020-05-21 03:08:37+02:00     18920770.0     9900962.0   \n",
       "3           10106942 2020-05-21 05:56:10+02:00     19393508.0     7090103.0   \n",
       "4           10107067 2020-05-21 06:28:02+02:00     22640658.0     9638365.0   \n",
       "...              ...                       ...            ...           ...   \n",
       "403503      21496242 2024-12-27 21:39:47+01:00     42343246.0    30002096.0   \n",
       "403504      21496292 2024-12-27 21:49:47+01:00     27462335.0    12158449.0   \n",
       "403505      21496542 2024-12-27 22:40:11+01:00     33487709.0    14529438.0   \n",
       "403506      21497067 2024-12-28 00:25:59+01:00     22112984.0    12737747.0   \n",
       "403507      21497292 2024-12-28 01:11:23+01:00     20386679.0     7089854.0   \n",
       "\n",
       "         gas_pert  \n",
       "0       23.185189  \n",
       "1       39.729233  \n",
       "2       52.328536  \n",
       "3       36.559157  \n",
       "4       42.571046  \n",
       "...           ...  \n",
       "403503  70.854502  \n",
       "403504  44.273180  \n",
       "403505  43.387375  \n",
       "403506  57.603022  \n",
       "403507  34.776895  \n",
       "\n",
       "[403508 rows x 5 columns]"
      ]
     },
     "execution_count": 43,
     "metadata": {},
     "output_type": "execute_result"
    }
   ],
   "source": [
    "%%time\n",
    "\n",
    "get_gas_per_block(\"2020-01-01\", \"2025-01-01\", y).df()"
   ]
  },
  {
   "cell_type": "markdown",
   "id": "df3ad2cb-e1cd-4f75-9afd-e137d8985120",
   "metadata": {},
   "source": [
    "#### Get total gas % distribution per block"
   ]
  },
  {
   "cell_type": "code",
   "execution_count": 44,
   "id": "d99dd546-97f2-41fc-b01c-d25f5f757a03",
   "metadata": {
    "tags": []
   },
   "outputs": [],
   "source": [
    "def get_gas_dist_per_block(t_start, t_end, bin_size, folder):\n",
    "    \n",
    "    gas_per_block = get_gas_per_block(t_start, t_end, folder)\n",
    "    \n",
    "    gas_dist = duckdb.sql(f\"\"\"\n",
    "                          WITH non_null_gas_pert AS (\n",
    "                            SELECT gas_pert\n",
    "                            FROM gas_per_block\n",
    "                            WHERE gas_pert IS NOT NULL\n",
    "                          ),\n",
    "\n",
    "                          binned AS (\n",
    "                              SELECT \n",
    "                                  FLOOR(gas_pert / {bin_size}) * {bin_size} AS lower_gas_pert\n",
    "                              FROM non_null_gas_pert\n",
    "                          ),\n",
    "\n",
    "                          counted AS (\n",
    "                              SELECT \n",
    "                                  lower_gas_pert,\n",
    "                                  COUNT(*) AS count_blocks\n",
    "                              FROM binned\n",
    "                              GROUP BY lower_gas_pert\n",
    "                          ),\n",
    "\n",
    "                          finalized AS (\n",
    "                              SELECT \n",
    "                                  lower_gas_pert,\n",
    "                                  CASE \n",
    "                                      WHEN lower_gas_pert < 100 \n",
    "                                          THEN lower_gas_pert + {bin_size}\n",
    "                                      ELSE lower_gas_pert\n",
    "                                  END AS upper_gas_pert,\n",
    "                                  count_blocks\n",
    "                              FROM counted\n",
    "                          )\n",
    "\n",
    "                          SELECT *\n",
    "                          FROM finalized\n",
    "                          ORDER BY lower_gas_pert DESC;\n",
    "                          \"\"\")   \n",
    "       \n",
    "    return gas_dist"
   ]
  },
  {
   "cell_type": "code",
   "execution_count": 46,
   "id": "d521ce82-c771-4620-948c-7b728289eaf7",
   "metadata": {
    "tags": []
   },
   "outputs": [
    {
     "name": "stdout",
     "output_type": "stream",
     "text": [
      "CPU times: user 6.44 s, sys: 380 ms, total: 6.82 s\n",
      "Wall time: 339 ms\n"
     ]
    },
    {
     "data": {
      "text/html": [
       "<div>\n",
       "<style scoped>\n",
       "    .dataframe tbody tr th:only-of-type {\n",
       "        vertical-align: middle;\n",
       "    }\n",
       "\n",
       "    .dataframe tbody tr th {\n",
       "        vertical-align: top;\n",
       "    }\n",
       "\n",
       "    .dataframe thead th {\n",
       "        text-align: right;\n",
       "    }\n",
       "</style>\n",
       "<table border=\"1\" class=\"dataframe\">\n",
       "  <thead>\n",
       "    <tr style=\"text-align: right;\">\n",
       "      <th></th>\n",
       "      <th>lower_gas_pert</th>\n",
       "      <th>upper_gas_pert</th>\n",
       "      <th>count_blocks</th>\n",
       "    </tr>\n",
       "  </thead>\n",
       "  <tbody>\n",
       "    <tr>\n",
       "      <th>0</th>\n",
       "      <td>100.0</td>\n",
       "      <td>100.0</td>\n",
       "      <td>44</td>\n",
       "    </tr>\n",
       "    <tr>\n",
       "      <th>1</th>\n",
       "      <td>90.0</td>\n",
       "      <td>100.0</td>\n",
       "      <td>632</td>\n",
       "    </tr>\n",
       "    <tr>\n",
       "      <th>2</th>\n",
       "      <td>80.0</td>\n",
       "      <td>90.0</td>\n",
       "      <td>2540</td>\n",
       "    </tr>\n",
       "    <tr>\n",
       "      <th>3</th>\n",
       "      <td>70.0</td>\n",
       "      <td>80.0</td>\n",
       "      <td>13101</td>\n",
       "    </tr>\n",
       "    <tr>\n",
       "      <th>4</th>\n",
       "      <td>60.0</td>\n",
       "      <td>70.0</td>\n",
       "      <td>46916</td>\n",
       "    </tr>\n",
       "    <tr>\n",
       "      <th>5</th>\n",
       "      <td>50.0</td>\n",
       "      <td>60.0</td>\n",
       "      <td>94598</td>\n",
       "    </tr>\n",
       "    <tr>\n",
       "      <th>6</th>\n",
       "      <td>40.0</td>\n",
       "      <td>50.0</td>\n",
       "      <td>112950</td>\n",
       "    </tr>\n",
       "    <tr>\n",
       "      <th>7</th>\n",
       "      <td>30.0</td>\n",
       "      <td>40.0</td>\n",
       "      <td>79230</td>\n",
       "    </tr>\n",
       "    <tr>\n",
       "      <th>8</th>\n",
       "      <td>20.0</td>\n",
       "      <td>30.0</td>\n",
       "      <td>42034</td>\n",
       "    </tr>\n",
       "    <tr>\n",
       "      <th>9</th>\n",
       "      <td>10.0</td>\n",
       "      <td>20.0</td>\n",
       "      <td>10183</td>\n",
       "    </tr>\n",
       "    <tr>\n",
       "      <th>10</th>\n",
       "      <td>0.0</td>\n",
       "      <td>10.0</td>\n",
       "      <td>1280</td>\n",
       "    </tr>\n",
       "  </tbody>\n",
       "</table>\n",
       "</div>"
      ],
      "text/plain": [
       "    lower_gas_pert  upper_gas_pert  count_blocks\n",
       "0            100.0           100.0            44\n",
       "1             90.0           100.0           632\n",
       "2             80.0            90.0          2540\n",
       "3             70.0            80.0         13101\n",
       "4             60.0            70.0         46916\n",
       "5             50.0            60.0         94598\n",
       "6             40.0            50.0        112950\n",
       "7             30.0            40.0         79230\n",
       "8             20.0            30.0         42034\n",
       "9             10.0            20.0         10183\n",
       "10             0.0            10.0          1280"
      ]
     },
     "execution_count": 46,
     "metadata": {},
     "output_type": "execute_result"
    }
   ],
   "source": [
    "%%time\n",
    "\n",
    "get_gas_dist_per_block(\"2020-01-01\", \"2025-01-01\", 10, y).df()"
   ]
  },
  {
   "cell_type": "code",
   "execution_count": null,
   "id": "461a0a24-f354-4479-bf47-2121962b1c8b",
   "metadata": {},
   "outputs": [],
   "source": []
  }
 ],
 "metadata": {
  "kernelspec": {
   "display_name": "Python 3 (ipykernel)",
   "language": "python",
   "name": "python3"
  },
  "language_info": {
   "codemirror_mode": {
    "name": "ipython",
    "version": 3
   },
   "file_extension": ".py",
   "mimetype": "text/x-python",
   "name": "python",
   "nbconvert_exporter": "python",
   "pygments_lexer": "ipython3",
   "version": "3.10.12"
  }
 },
 "nbformat": 4,
 "nbformat_minor": 5
}
