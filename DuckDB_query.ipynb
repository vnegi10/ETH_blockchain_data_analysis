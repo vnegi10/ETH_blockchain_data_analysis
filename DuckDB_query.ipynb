{
 "cells": [
  {
   "cell_type": "code",
   "execution_count": 1,
   "id": "b48c2534-d9f5-4a0e-ae3f-911979cd3929",
   "metadata": {
    "tags": []
   },
   "outputs": [
    {
     "name": "stdout",
     "output_type": "stream",
     "text": [
      "1.2.0\n"
     ]
    }
   ],
   "source": [
    "import duckdb\n",
    "print(duckdb.__version__)\n",
    "import os"
   ]
  },
  {
   "cell_type": "markdown",
   "id": "9dd07538-055e-49db-bec2-14baa52bbd1c",
   "metadata": {},
   "source": [
    "## Ingest data"
   ]
  },
  {
   "cell_type": "code",
   "execution_count": 2,
   "id": "05cc4de9-c1d7-4fcc-84b0-5973b9df1e2a",
   "metadata": {
    "tags": []
   },
   "outputs": [],
   "source": [
    "y  = \"/mnt/ugreen/HuggingFace/Ethereum_blockchain_parquet\"\n",
    "y2 = \"/mnt/ugreen/Eth_pq_sample/Ethereum_blockchain_parquet_full_zstd_10\"\n",
    "y3 = \"/mnt/ugreen/Ethereum_blockchain_parquet_full_zstd_10\"\n",
    "\n",
    "def get_blocks_folder(folder):\n",
    "    return os.path.join(folder, \"blocks\", \"*.parquet\")\n",
    "\n",
    "def get_tx_folder(folder):\n",
    "    return os.path.join(folder, \"transactions\", \"*.parquet\")"
   ]
  },
  {
   "cell_type": "code",
   "execution_count": 3,
   "id": "91331c88-d7bc-4c7a-9997-752952f28dd6",
   "metadata": {
    "tags": []
   },
   "outputs": [],
   "source": [
    "def ingest_pq(*cols, folder):\n",
    "\n",
    "    # Convert column names to a comma-separated string\n",
    "    col_str = \", \".join(cols) if cols else \"*\"\n",
    "\n",
    "    pq_input = duckdb.sql(f\"\"\"\n",
    "                           SELECT {col_str} \n",
    "                           FROM read_parquet('{folder}')\n",
    "                           \"\"\")\n",
    "\n",
    "    return pq_input"
   ]
  },
  {
   "cell_type": "markdown",
   "id": "c750423d-a0b9-42d5-afab-c92ee8517944",
   "metadata": {},
   "source": [
    "## Run query"
   ]
  },
  {
   "cell_type": "markdown",
   "id": "1ddb6042-64a8-45f6-98a4-560ae70dcefc",
   "metadata": {},
   "source": [
    "### Count"
   ]
  },
  {
   "cell_type": "code",
   "execution_count": 4,
   "id": "03b1730c-5401-4934-bcc3-55cf4f2f893f",
   "metadata": {
    "tags": []
   },
   "outputs": [],
   "source": [
    "def get_num_rows(folder):\n",
    "\n",
    "    one_col = ingest_pq(\"block_number\", folder = folder)\n",
    "\n",
    "    num_rows = duckdb.sql(\"\"\"\n",
    "                          SELECT COUNT(*) FROM one_col\n",
    "                          \"\"\")\n",
    "\n",
    "    print(num_rows)\n",
    "\n",
    "    return None    "
   ]
  },
  {
   "cell_type": "code",
   "execution_count": 7,
   "id": "2f3cf085-ef30-4a25-ab35-d4fe362774a8",
   "metadata": {
    "tags": []
   },
   "outputs": [
    {
     "name": "stdout",
     "output_type": "stream",
     "text": [
      "┌──────────────┐\n",
      "│ count_star() │\n",
      "│    int64     │\n",
      "├──────────────┤\n",
      "│       634440 │\n",
      "└──────────────┘\n",
      "\n",
      "CPU times: user 28.3 ms, sys: 11.8 ms, total: 40.1 ms\n",
      "Wall time: 18.1 ms\n"
     ]
    }
   ],
   "source": [
    "%%time\n",
    "\n",
    "get_num_rows(get_blocks_folder(y))"
   ]
  },
  {
   "cell_type": "code",
   "execution_count": 8,
   "id": "cfdc20ce-8c68-4d11-80aa-62d9250b2749",
   "metadata": {
    "tags": []
   },
   "outputs": [
    {
     "name": "stdout",
     "output_type": "stream",
     "text": [
      "┌──────────────┐\n",
      "│ count_star() │\n",
      "│    int64     │\n",
      "├──────────────┤\n",
      "│     93492934 │\n",
      "└──────────────┘\n",
      "\n",
      "CPU times: user 126 ms, sys: 11.5 ms, total: 138 ms\n",
      "Wall time: 47.3 ms\n"
     ]
    }
   ],
   "source": [
    "%%time\n",
    "\n",
    "get_num_rows(get_tx_folder(y))"
   ]
  },
  {
   "cell_type": "markdown",
   "id": "6906388a-2857-4b37-9338-78174a0ebb05",
   "metadata": {},
   "source": [
    "### Get time range"
   ]
  },
  {
   "cell_type": "code",
   "execution_count": 10,
   "id": "c68affb0-c861-40d3-9d32-b8f11496ce56",
   "metadata": {
    "tags": []
   },
   "outputs": [],
   "source": [
    "def get_time_range(folder):\n",
    "\n",
    "    one_col = ingest_pq(\"timestamp\", folder = folder)\n",
    "\n",
    "    min_max_time = duckdb.sql(\"\"\"\n",
    "                    SELECT \n",
    "                    MIN(TO_TIMESTAMP(timestamp)) FILTER (WHERE timestamp > 0) AS min_time, \n",
    "                    MAX(TO_TIMESTAMP(timestamp)) AS max_time\n",
    "                    FROM one_col   \n",
    "                    \"\"\")\n",
    "\n",
    "    return min_max_time   "
   ]
  },
  {
   "cell_type": "code",
   "execution_count": 11,
   "id": "709e750d-30b2-48f4-a273-9a7c00def53d",
   "metadata": {
    "tags": []
   },
   "outputs": [
    {
     "name": "stdout",
     "output_type": "stream",
     "text": [
      "CPU times: user 1.55 ms, sys: 3 ms, total: 4.55 ms\n",
      "Wall time: 3.66 ms\n"
     ]
    },
    {
     "data": {
      "text/plain": [
       "┌──────────────────────────┬──────────────────────────┐\n",
       "│         min_time         │         max_time         │\n",
       "│ timestamp with time zone │ timestamp with time zone │\n",
       "├──────────────────────────┼──────────────────────────┤\n",
       "│ 2016-11-17 01:40:08+01   │ 2025-03-25 22:17:35+01   │\n",
       "└──────────────────────────┴──────────────────────────┘"
      ]
     },
     "execution_count": 11,
     "metadata": {},
     "output_type": "execute_result"
    }
   ],
   "source": [
    "%%time\n",
    "\n",
    "get_time_range(get_blocks_folder(y))"
   ]
  },
  {
   "cell_type": "markdown",
   "id": "2926e7de-5298-4841-8751-69ee23c4e4a5",
   "metadata": {},
   "source": [
    "### Filter blocks"
   ]
  },
  {
   "cell_type": "code",
   "execution_count": 12,
   "id": "d33354ae-6438-4353-b030-bef5cbb4f3c0",
   "metadata": {
    "tags": []
   },
   "outputs": [],
   "source": [
    "def get_blocks_filtered(t_start, t_end, folder):\n",
    "\n",
    "    dim_cols = ingest_pq(\"block_number\", \"timestamp\",\n",
    "                          folder = folder)\n",
    "\n",
    "    filter_blocks = duckdb.sql(f\"\"\"\n",
    "                                SELECT \n",
    "                                TO_TIMESTAMP(timestamp) AS timestamp, \n",
    "                                block_number\n",
    "                                FROM dim_cols\n",
    "                                WHERE TO_TIMESTAMP(timestamp) \n",
    "                                BETWEEN '{t_start}' AND '{t_end}'\n",
    "                               \"\"\")\n",
    "\n",
    "    return filter_blocks    "
   ]
  },
  {
   "cell_type": "code",
   "execution_count": 13,
   "id": "43e00ec6-5728-4420-8630-31fd47057f80",
   "metadata": {
    "tags": []
   },
   "outputs": [],
   "source": [
    "# %%time\n",
    "\n",
    "# get_blocks_filtered(\"2022-01-01\", \"2024-12-31\")"
   ]
  },
  {
   "cell_type": "markdown",
   "id": "8971f947-c3ac-4110-931c-00a4472fdf87",
   "metadata": {},
   "source": [
    "### Block level analytics"
   ]
  },
  {
   "cell_type": "markdown",
   "id": "cb15462c-5c3d-4d42-baf8-498236dc6531",
   "metadata": {},
   "source": [
    "#### Tx count per block"
   ]
  },
  {
   "cell_type": "code",
   "execution_count": 14,
   "id": "90a97a5c-99ef-4d8b-8d1e-8a2e80651900",
   "metadata": {
    "tags": []
   },
   "outputs": [],
   "source": [
    "def get_tx_count_per_block(t_start, t_end, folder):\n",
    "    \n",
    "    blocks = get_blocks_filtered(t_start, t_end, get_blocks_folder(folder))\n",
    "\n",
    "    tx_cols = ingest_pq(\"block_number\",\n",
    "                        \"success\",\n",
    "                        folder = get_tx_folder(folder)\n",
    "                       )\n",
    "    \n",
    "    tx_cols_success = duckdb.sql(\"\"\"\n",
    "                                 SELECT * FROM tx_cols\n",
    "                                 WHERE tx_cols.success = TRUE\n",
    "                                 \"\"\")\n",
    "\n",
    "    count_per_block = duckdb.sql(\"\"\"\n",
    "                                SELECT \n",
    "                                    tx_cols_success.block_number, \n",
    "                                    blocks.timestamp, \n",
    "                                    COUNT(*) AS count_tx\n",
    "                                FROM tx_cols_success\n",
    "                                INNER JOIN blocks \n",
    "                                    ON tx_cols_success.block_number = blocks.block_number\n",
    "                                GROUP BY \n",
    "                                    tx_cols_success.block_number, \n",
    "                                    blocks.timestamp\n",
    "                                ORDER BY count_tx DESC\n",
    "                                LIMIT 100\n",
    "                                \"\"\").df()        \n",
    "       \n",
    "    return count_per_block"
   ]
  },
  {
   "cell_type": "code",
   "execution_count": 21,
   "id": "7b707848-99da-476f-b41a-9837d138b4be",
   "metadata": {
    "tags": []
   },
   "outputs": [
    {
     "name": "stdout",
     "output_type": "stream",
     "text": [
      "CPU times: user 3.84 s, sys: 120 ms, total: 3.96 s\n",
      "Wall time: 208 ms\n"
     ]
    },
    {
     "data": {
      "text/html": [
       "<div>\n",
       "<style scoped>\n",
       "    .dataframe tbody tr th:only-of-type {\n",
       "        vertical-align: middle;\n",
       "    }\n",
       "\n",
       "    .dataframe tbody tr th {\n",
       "        vertical-align: top;\n",
       "    }\n",
       "\n",
       "    .dataframe thead th {\n",
       "        text-align: right;\n",
       "    }\n",
       "</style>\n",
       "<table border=\"1\" class=\"dataframe\">\n",
       "  <thead>\n",
       "    <tr style=\"text-align: right;\">\n",
       "      <th></th>\n",
       "      <th>block_number</th>\n",
       "      <th>timestamp</th>\n",
       "      <th>count_tx</th>\n",
       "    </tr>\n",
       "  </thead>\n",
       "  <tbody>\n",
       "    <tr>\n",
       "      <th>0</th>\n",
       "      <td>13330992</td>\n",
       "      <td>2021-10-01 05:19:25+02:00</td>\n",
       "      <td>1425</td>\n",
       "    </tr>\n",
       "    <tr>\n",
       "      <th>1</th>\n",
       "      <td>13331492</td>\n",
       "      <td>2021-10-01 07:13:20+02:00</td>\n",
       "      <td>1413</td>\n",
       "    </tr>\n",
       "    <tr>\n",
       "      <th>2</th>\n",
       "      <td>15471742</td>\n",
       "      <td>2022-09-04 14:50:39+02:00</td>\n",
       "      <td>1402</td>\n",
       "    </tr>\n",
       "    <tr>\n",
       "      <th>3</th>\n",
       "      <td>15273992</td>\n",
       "      <td>2022-08-04 07:25:20+02:00</td>\n",
       "      <td>1399</td>\n",
       "    </tr>\n",
       "    <tr>\n",
       "      <th>4</th>\n",
       "      <td>13235517</td>\n",
       "      <td>2021-09-16 09:49:44+02:00</td>\n",
       "      <td>1393</td>\n",
       "    </tr>\n",
       "    <tr>\n",
       "      <th>...</th>\n",
       "      <td>...</td>\n",
       "      <td>...</td>\n",
       "      <td>...</td>\n",
       "    </tr>\n",
       "    <tr>\n",
       "      <th>95</th>\n",
       "      <td>20137892</td>\n",
       "      <td>2024-06-21 07:05:47+02:00</td>\n",
       "      <td>1082</td>\n",
       "    </tr>\n",
       "    <tr>\n",
       "      <th>96</th>\n",
       "      <td>13657742</td>\n",
       "      <td>2021-11-21 11:53:26+01:00</td>\n",
       "      <td>1082</td>\n",
       "    </tr>\n",
       "    <tr>\n",
       "      <th>97</th>\n",
       "      <td>13795742</td>\n",
       "      <td>2021-12-13 09:32:27+01:00</td>\n",
       "      <td>1077</td>\n",
       "    </tr>\n",
       "    <tr>\n",
       "      <th>98</th>\n",
       "      <td>15553367</td>\n",
       "      <td>2022-09-17 14:41:35+02:00</td>\n",
       "      <td>1069</td>\n",
       "    </tr>\n",
       "    <tr>\n",
       "      <th>99</th>\n",
       "      <td>17874017</td>\n",
       "      <td>2023-08-09 03:17:35+02:00</td>\n",
       "      <td>1068</td>\n",
       "    </tr>\n",
       "  </tbody>\n",
       "</table>\n",
       "<p>100 rows × 3 columns</p>\n",
       "</div>"
      ],
      "text/plain": [
       "    block_number                 timestamp  count_tx\n",
       "0       13330992 2021-10-01 05:19:25+02:00      1425\n",
       "1       13331492 2021-10-01 07:13:20+02:00      1413\n",
       "2       15471742 2022-09-04 14:50:39+02:00      1402\n",
       "3       15273992 2022-08-04 07:25:20+02:00      1399\n",
       "4       13235517 2021-09-16 09:49:44+02:00      1393\n",
       "..           ...                       ...       ...\n",
       "95      20137892 2024-06-21 07:05:47+02:00      1082\n",
       "96      13657742 2021-11-21 11:53:26+01:00      1082\n",
       "97      13795742 2021-12-13 09:32:27+01:00      1077\n",
       "98      15553367 2022-09-17 14:41:35+02:00      1069\n",
       "99      17874017 2023-08-09 03:17:35+02:00      1068\n",
       "\n",
       "[100 rows x 3 columns]"
      ]
     },
     "execution_count": 21,
     "metadata": {},
     "output_type": "execute_result"
    }
   ],
   "source": [
    "%%time\n",
    "\n",
    "get_tx_count_per_block(\"2020-01-01\", \"2025-01-01\", y)"
   ]
  },
  {
   "cell_type": "code",
   "execution_count": 19,
   "id": "8cb3c472-0816-4dde-832e-c2d626fb5730",
   "metadata": {
    "tags": []
   },
   "outputs": [],
   "source": [
    "# %%time\n",
    "\n",
    "# get_tx_count_per_block(\"2023-09-01\", \"2025-03-01\", y2)"
   ]
  },
  {
   "cell_type": "markdown",
   "id": "9137047a-8808-4542-858e-f5e307daf48f",
   "metadata": {},
   "source": [
    "#### Get total ETH per block"
   ]
  },
  {
   "cell_type": "code",
   "execution_count": 22,
   "id": "59f7f31f-531a-4708-bbab-7d50b57f16bc",
   "metadata": {
    "tags": []
   },
   "outputs": [],
   "source": [
    "def get_eth_per_block(t_start, t_end, folder):\n",
    "    \n",
    "    blocks = get_blocks_filtered(t_start, t_end, get_blocks_folder(folder))\n",
    "\n",
    "    tx_cols = ingest_pq(\"block_number\",\n",
    "                        \"success\",\n",
    "                        \"value_f64\",\n",
    "                        folder = get_tx_folder(folder)\n",
    "                       )\n",
    "    \n",
    "    tx_cols_success = duckdb.sql(\"\"\"\n",
    "                                 SELECT * FROM tx_cols\n",
    "                                 WHERE tx_cols.success = TRUE\n",
    "                                 \"\"\")\n",
    "\n",
    "    eth_per_block = duckdb.sql(\"\"\"\n",
    "                                SELECT \n",
    "                                tx_cols_success.block_number, \n",
    "                                blocks.timestamp, \n",
    "                                COUNT(*) AS count_tx,\n",
    "                                SUM(tx_cols_success.value_f64 / 1e18) AS total_tx_eth\n",
    "                                FROM tx_cols_success\n",
    "                                INNER JOIN blocks \n",
    "                                    ON tx_cols_success.block_number = blocks.block_number\n",
    "                                GROUP BY \n",
    "                                    tx_cols_success.block_number, \n",
    "                                    blocks.timestamp\n",
    "                                ORDER BY total_tx_eth DESC\n",
    "                                LIMIT 100\n",
    "                                \"\"\").df()    \n",
    "       \n",
    "    return eth_per_block"
   ]
  },
  {
   "cell_type": "code",
   "execution_count": 24,
   "id": "fba56e6c-cea1-499b-8f34-144098353685",
   "metadata": {
    "tags": []
   },
   "outputs": [
    {
     "name": "stdout",
     "output_type": "stream",
     "text": [
      "CPU times: user 4.85 s, sys: 241 ms, total: 5.09 s\n",
      "Wall time: 259 ms\n"
     ]
    },
    {
     "data": {
      "text/html": [
       "<div>\n",
       "<style scoped>\n",
       "    .dataframe tbody tr th:only-of-type {\n",
       "        vertical-align: middle;\n",
       "    }\n",
       "\n",
       "    .dataframe tbody tr th {\n",
       "        vertical-align: top;\n",
       "    }\n",
       "\n",
       "    .dataframe thead th {\n",
       "        text-align: right;\n",
       "    }\n",
       "</style>\n",
       "<table border=\"1\" class=\"dataframe\">\n",
       "  <thead>\n",
       "    <tr style=\"text-align: right;\">\n",
       "      <th></th>\n",
       "      <th>block_number</th>\n",
       "      <th>timestamp</th>\n",
       "      <th>count_tx</th>\n",
       "      <th>total_tx_eth</th>\n",
       "    </tr>\n",
       "  </thead>\n",
       "  <tbody>\n",
       "    <tr>\n",
       "      <th>0</th>\n",
       "      <td>10328842</td>\n",
       "      <td>2020-06-24 15:54:49+02:00</td>\n",
       "      <td>206</td>\n",
       "      <td>789744.896731</td>\n",
       "    </tr>\n",
       "    <tr>\n",
       "      <th>1</th>\n",
       "      <td>15093817</td>\n",
       "      <td>2022-07-07 08:30:47+02:00</td>\n",
       "      <td>353</td>\n",
       "      <td>598912.604601</td>\n",
       "    </tr>\n",
       "    <tr>\n",
       "      <th>2</th>\n",
       "      <td>12506592</td>\n",
       "      <td>2021-05-26 01:59:57+02:00</td>\n",
       "      <td>136</td>\n",
       "      <td>527673.911818</td>\n",
       "    </tr>\n",
       "    <tr>\n",
       "      <th>3</th>\n",
       "      <td>12461692</td>\n",
       "      <td>2021-05-19 02:44:33+02:00</td>\n",
       "      <td>261</td>\n",
       "      <td>500081.936254</td>\n",
       "    </tr>\n",
       "    <tr>\n",
       "      <th>4</th>\n",
       "      <td>15433542</td>\n",
       "      <td>2022-08-29 12:19:06+02:00</td>\n",
       "      <td>249</td>\n",
       "      <td>500057.213779</td>\n",
       "    </tr>\n",
       "    <tr>\n",
       "      <th>...</th>\n",
       "      <td>...</td>\n",
       "      <td>...</td>\n",
       "      <td>...</td>\n",
       "      <td>...</td>\n",
       "    </tr>\n",
       "    <tr>\n",
       "      <th>95</th>\n",
       "      <td>15946367</td>\n",
       "      <td>2022-11-11 12:05:35+01:00</td>\n",
       "      <td>131</td>\n",
       "      <td>50059.604783</td>\n",
       "    </tr>\n",
       "    <tr>\n",
       "      <th>96</th>\n",
       "      <td>21128917</td>\n",
       "      <td>2024-11-06 14:30:35+01:00</td>\n",
       "      <td>191</td>\n",
       "      <td>50041.179866</td>\n",
       "    </tr>\n",
       "    <tr>\n",
       "      <th>97</th>\n",
       "      <td>12839192</td>\n",
       "      <td>2021-07-16 19:15:58+02:00</td>\n",
       "      <td>243</td>\n",
       "      <td>50040.950173</td>\n",
       "    </tr>\n",
       "    <tr>\n",
       "      <th>98</th>\n",
       "      <td>18484467</td>\n",
       "      <td>2023-11-02 13:42:23+01:00</td>\n",
       "      <td>160</td>\n",
       "      <td>50031.292705</td>\n",
       "    </tr>\n",
       "    <tr>\n",
       "      <th>99</th>\n",
       "      <td>15978942</td>\n",
       "      <td>2022-11-16 01:14:59+01:00</td>\n",
       "      <td>250</td>\n",
       "      <td>49575.360566</td>\n",
       "    </tr>\n",
       "  </tbody>\n",
       "</table>\n",
       "<p>100 rows × 4 columns</p>\n",
       "</div>"
      ],
      "text/plain": [
       "    block_number                 timestamp  count_tx   total_tx_eth\n",
       "0       10328842 2020-06-24 15:54:49+02:00       206  789744.896731\n",
       "1       15093817 2022-07-07 08:30:47+02:00       353  598912.604601\n",
       "2       12506592 2021-05-26 01:59:57+02:00       136  527673.911818\n",
       "3       12461692 2021-05-19 02:44:33+02:00       261  500081.936254\n",
       "4       15433542 2022-08-29 12:19:06+02:00       249  500057.213779\n",
       "..           ...                       ...       ...            ...\n",
       "95      15946367 2022-11-11 12:05:35+01:00       131   50059.604783\n",
       "96      21128917 2024-11-06 14:30:35+01:00       191   50041.179866\n",
       "97      12839192 2021-07-16 19:15:58+02:00       243   50040.950173\n",
       "98      18484467 2023-11-02 13:42:23+01:00       160   50031.292705\n",
       "99      15978942 2022-11-16 01:14:59+01:00       250   49575.360566\n",
       "\n",
       "[100 rows x 4 columns]"
      ]
     },
     "execution_count": 24,
     "metadata": {},
     "output_type": "execute_result"
    }
   ],
   "source": [
    "%%time\n",
    "\n",
    "get_eth_per_block(\"2020-01-01\", \"2025-01-01\", y)"
   ]
  },
  {
   "cell_type": "code",
   "execution_count": 25,
   "id": "a41aee13-a953-4e81-8da2-fcbe135efe6e",
   "metadata": {
    "tags": []
   },
   "outputs": [],
   "source": [
    "# %%time\n",
    "\n",
    "# get_eth_per_block(\"2023-01-01\", \"2025-01-01\", y3)"
   ]
  },
  {
   "cell_type": "markdown",
   "id": "a84f8ef7-411d-4216-ba95-c56d46ded780",
   "metadata": {},
   "source": [
    "#### Get total gas used % per block"
   ]
  },
  {
   "cell_type": "code",
   "execution_count": 27,
   "id": "b2cf9bd7-65ed-4d87-ad02-7fb0f5dc04d7",
   "metadata": {
    "tags": []
   },
   "outputs": [],
   "source": [
    "def get_gas_per_block(t_start, t_end, folder):\n",
    "    \n",
    "    blocks = get_blocks_filtered(t_start, t_end, get_blocks_folder(folder))\n",
    "\n",
    "    tx_cols = ingest_pq(\"block_number\",\n",
    "                        \"success\",\n",
    "                        \"gas_limit\",\n",
    "                        \"gas_used\",\n",
    "                        folder = get_tx_folder(folder)\n",
    "                       )\n",
    "    \n",
    "    tx_cols_success = duckdb.sql(\"\"\"\n",
    "                                 SELECT * FROM tx_cols\n",
    "                                 WHERE tx_cols.success = TRUE\n",
    "                                 \"\"\")\n",
    "\n",
    "    gas_per_block = duckdb.sql(\"\"\"\n",
    "                                SELECT \n",
    "                                    tx.block_number, \n",
    "                                    b.timestamp, \n",
    "                                    SUM(tx.gas_limit) AS sum_gas_limit,\n",
    "                                    SUM(tx.gas_used) AS sum_gas_used,\n",
    "                                    (SUM(tx.gas_used) * 100.0 / NULLIF(SUM(tx.gas_limit), 0)) AS gas_pert\n",
    "                                FROM tx_cols_success tx\n",
    "                                INNER JOIN blocks b\n",
    "                                    ON tx.block_number = b.block_number\n",
    "                                GROUP BY \n",
    "                                    tx.block_number, \n",
    "                                    b.timestamp\n",
    "                                ORDER BY gas_pert DESC\n",
    "                                LIMIT 100;\n",
    "                                \"\"\").df()    \n",
    "       \n",
    "    return gas_per_block"
   ]
  },
  {
   "cell_type": "code",
   "execution_count": 28,
   "id": "51c9c454-4578-4414-8cf0-49eb758aace0",
   "metadata": {
    "tags": []
   },
   "outputs": [
    {
     "name": "stdout",
     "output_type": "stream",
     "text": [
      "CPU times: user 6.22 s, sys: 1.45 s, total: 7.67 s\n",
      "Wall time: 2.26 s\n"
     ]
    },
    {
     "data": {
      "text/html": [
       "<div>\n",
       "<style scoped>\n",
       "    .dataframe tbody tr th:only-of-type {\n",
       "        vertical-align: middle;\n",
       "    }\n",
       "\n",
       "    .dataframe tbody tr th {\n",
       "        vertical-align: top;\n",
       "    }\n",
       "\n",
       "    .dataframe thead th {\n",
       "        text-align: right;\n",
       "    }\n",
       "</style>\n",
       "<table border=\"1\" class=\"dataframe\">\n",
       "  <thead>\n",
       "    <tr style=\"text-align: right;\">\n",
       "      <th></th>\n",
       "      <th>block_number</th>\n",
       "      <th>timestamp</th>\n",
       "      <th>sum_gas_limit</th>\n",
       "      <th>sum_gas_used</th>\n",
       "      <th>gas_pert</th>\n",
       "    </tr>\n",
       "  </thead>\n",
       "  <tbody>\n",
       "    <tr>\n",
       "      <th>0</th>\n",
       "      <td>14752267</td>\n",
       "      <td>2022-05-11 04:42:55+02:00</td>\n",
       "      <td>21000.0</td>\n",
       "      <td>21000.0</td>\n",
       "      <td>100.000000</td>\n",
       "    </tr>\n",
       "    <tr>\n",
       "      <th>1</th>\n",
       "      <td>13212767</td>\n",
       "      <td>2021-09-12 21:11:39+02:00</td>\n",
       "      <td>21000.0</td>\n",
       "      <td>21000.0</td>\n",
       "      <td>100.000000</td>\n",
       "    </tr>\n",
       "    <tr>\n",
       "      <th>2</th>\n",
       "      <td>20388292</td>\n",
       "      <td>2024-07-26 06:20:23+02:00</td>\n",
       "      <td>84209.0</td>\n",
       "      <td>84209.0</td>\n",
       "      <td>100.000000</td>\n",
       "    </tr>\n",
       "    <tr>\n",
       "      <th>3</th>\n",
       "      <td>15055692</td>\n",
       "      <td>2022-07-01 11:03:36+02:00</td>\n",
       "      <td>214996.0</td>\n",
       "      <td>214996.0</td>\n",
       "      <td>100.000000</td>\n",
       "    </tr>\n",
       "    <tr>\n",
       "      <th>4</th>\n",
       "      <td>9646492</td>\n",
       "      <td>2020-03-10 23:38:16+01:00</td>\n",
       "      <td>21000.0</td>\n",
       "      <td>21000.0</td>\n",
       "      <td>100.000000</td>\n",
       "    </tr>\n",
       "    <tr>\n",
       "      <th>...</th>\n",
       "      <td>...</td>\n",
       "      <td>...</td>\n",
       "      <td>...</td>\n",
       "      <td>...</td>\n",
       "      <td>...</td>\n",
       "    </tr>\n",
       "    <tr>\n",
       "      <th>95</th>\n",
       "      <td>16024067</td>\n",
       "      <td>2022-11-22 08:29:47+01:00</td>\n",
       "      <td>30125599.0</td>\n",
       "      <td>29890435.0</td>\n",
       "      <td>99.219388</td>\n",
       "    </tr>\n",
       "    <tr>\n",
       "      <th>96</th>\n",
       "      <td>12513192</td>\n",
       "      <td>2021-05-27 02:36:21+02:00</td>\n",
       "      <td>15050770.0</td>\n",
       "      <td>14932003.0</td>\n",
       "      <td>99.210891</td>\n",
       "    </tr>\n",
       "    <tr>\n",
       "      <th>97</th>\n",
       "      <td>12211017</td>\n",
       "      <td>2021-04-10 10:22:47+02:00</td>\n",
       "      <td>12585000.0</td>\n",
       "      <td>12482857.0</td>\n",
       "      <td>99.188375</td>\n",
       "    </tr>\n",
       "    <tr>\n",
       "      <th>98</th>\n",
       "      <td>12446267</td>\n",
       "      <td>2021-05-16 17:24:36+02:00</td>\n",
       "      <td>14985339.0</td>\n",
       "      <td>14859411.0</td>\n",
       "      <td>99.159659</td>\n",
       "    </tr>\n",
       "    <tr>\n",
       "      <th>99</th>\n",
       "      <td>12527667</td>\n",
       "      <td>2021-05-29 08:36:31+02:00</td>\n",
       "      <td>14992593.0</td>\n",
       "      <td>14859411.0</td>\n",
       "      <td>99.111681</td>\n",
       "    </tr>\n",
       "  </tbody>\n",
       "</table>\n",
       "<p>100 rows × 5 columns</p>\n",
       "</div>"
      ],
      "text/plain": [
       "    block_number                 timestamp  sum_gas_limit  sum_gas_used  \\\n",
       "0       14752267 2022-05-11 04:42:55+02:00        21000.0       21000.0   \n",
       "1       13212767 2021-09-12 21:11:39+02:00        21000.0       21000.0   \n",
       "2       20388292 2024-07-26 06:20:23+02:00        84209.0       84209.0   \n",
       "3       15055692 2022-07-01 11:03:36+02:00       214996.0      214996.0   \n",
       "4        9646492 2020-03-10 23:38:16+01:00        21000.0       21000.0   \n",
       "..           ...                       ...            ...           ...   \n",
       "95      16024067 2022-11-22 08:29:47+01:00     30125599.0    29890435.0   \n",
       "96      12513192 2021-05-27 02:36:21+02:00     15050770.0    14932003.0   \n",
       "97      12211017 2021-04-10 10:22:47+02:00     12585000.0    12482857.0   \n",
       "98      12446267 2021-05-16 17:24:36+02:00     14985339.0    14859411.0   \n",
       "99      12527667 2021-05-29 08:36:31+02:00     14992593.0    14859411.0   \n",
       "\n",
       "      gas_pert  \n",
       "0   100.000000  \n",
       "1   100.000000  \n",
       "2   100.000000  \n",
       "3   100.000000  \n",
       "4   100.000000  \n",
       "..         ...  \n",
       "95   99.219388  \n",
       "96   99.210891  \n",
       "97   99.188375  \n",
       "98   99.159659  \n",
       "99   99.111681  \n",
       "\n",
       "[100 rows x 5 columns]"
      ]
     },
     "execution_count": 28,
     "metadata": {},
     "output_type": "execute_result"
    }
   ],
   "source": [
    "%%time\n",
    "\n",
    "get_gas_per_block(\"2020-01-01\", \"2025-01-01\", y)"
   ]
  },
  {
   "cell_type": "code",
   "execution_count": null,
   "id": "21b16285-3c1c-4c84-8254-e8c8680bf530",
   "metadata": {},
   "outputs": [],
   "source": []
  }
 ],
 "metadata": {
  "kernelspec": {
   "display_name": "Python 3 (ipykernel)",
   "language": "python",
   "name": "python3"
  },
  "language_info": {
   "codemirror_mode": {
    "name": "ipython",
    "version": 3
   },
   "file_extension": ".py",
   "mimetype": "text/x-python",
   "name": "python",
   "nbconvert_exporter": "python",
   "pygments_lexer": "ipython3",
   "version": "3.10.12"
  }
 },
 "nbformat": 4,
 "nbformat_minor": 5
}
