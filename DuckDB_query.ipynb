{
 "cells": [
  {
   "cell_type": "code",
   "execution_count": 1,
   "id": "b48c2534-d9f5-4a0e-ae3f-911979cd3929",
   "metadata": {
    "tags": []
   },
   "outputs": [
    {
     "name": "stdout",
     "output_type": "stream",
     "text": [
      "1.2.2\n"
     ]
    }
   ],
   "source": [
    "import duckdb\n",
    "print(duckdb.__version__)\n",
    "import os"
   ]
  },
  {
   "cell_type": "code",
   "execution_count": 16,
   "id": "f4c31438-acbb-4f65-a1dc-7444a6c60d3e",
   "metadata": {
    "tags": []
   },
   "outputs": [],
   "source": [
    "# Set DuckDB memory spill directory and max size\n",
    "\n",
    "#duckdb.sql(\"SET temp_directory = '/mnt/ssd/tmp/duckdb_swap';\")\n",
    "duckdb.sql(\"SET max_temp_directory_size = '200GB';\")"
   ]
  },
  {
   "cell_type": "markdown",
   "id": "9dd07538-055e-49db-bec2-14baa52bbd1c",
   "metadata": {},
   "source": [
    "## Ingest data"
   ]
  },
  {
   "cell_type": "code",
   "execution_count": 2,
   "id": "05cc4de9-c1d7-4fcc-84b0-5973b9df1e2a",
   "metadata": {
    "tags": []
   },
   "outputs": [],
   "source": [
    "y  = \"/mnt/ugreen/HuggingFace/Ethereum_blockchain_parquet\"\n",
    "y2 = \"/mnt/ugreen/Eth_pq_sample/Ethereum_blockchain_parquet_full_zstd_10\"\n",
    "y3 = \"/mnt/ugreen/Ethereum_blockchain_parquet_full_zstd_10\"\n",
    "\n",
    "def get_blocks_folder(folder):\n",
    "    return os.path.join(folder, \"blocks\", \"*.parquet\")\n",
    "\n",
    "def get_tx_folder(folder):\n",
    "    return os.path.join(folder, \"transactions\", \"*.parquet\")"
   ]
  },
  {
   "cell_type": "code",
   "execution_count": 3,
   "id": "91331c88-d7bc-4c7a-9997-752952f28dd6",
   "metadata": {
    "tags": []
   },
   "outputs": [],
   "source": [
    "def ingest_pq(*cols, folder):\n",
    "\n",
    "    # Convert column names to a comma-separated string\n",
    "    col_str = \", \".join(cols) if cols else \"*\"\n",
    "\n",
    "    pq_input = duckdb.sql(f\"\"\"\n",
    "                           SELECT {col_str} \n",
    "                           FROM read_parquet('{folder}')\n",
    "                           \"\"\")\n",
    "\n",
    "    return pq_input"
   ]
  },
  {
   "cell_type": "markdown",
   "id": "c750423d-a0b9-42d5-afab-c92ee8517944",
   "metadata": {},
   "source": [
    "## Run query"
   ]
  },
  {
   "cell_type": "markdown",
   "id": "1ddb6042-64a8-45f6-98a4-560ae70dcefc",
   "metadata": {},
   "source": [
    "### Count"
   ]
  },
  {
   "cell_type": "code",
   "execution_count": 52,
   "id": "03b1730c-5401-4934-bcc3-55cf4f2f893f",
   "metadata": {
    "tags": []
   },
   "outputs": [],
   "source": [
    "def get_num_rows(folder):\n",
    "\n",
    "    one_col = ingest_pq(\"block_number\", folder = folder)\n",
    "\n",
    "    num_rows = duckdb.sql(\"\"\"\n",
    "                          SELECT COUNT(*) FROM one_col\n",
    "                          \"\"\")\n",
    "\n",
    "    print(num_rows)\n",
    "\n",
    "    return None    "
   ]
  },
  {
   "cell_type": "code",
   "execution_count": 53,
   "id": "2f3cf085-ef30-4a25-ab35-d4fe362774a8",
   "metadata": {
    "tags": []
   },
   "outputs": [
    {
     "name": "stdout",
     "output_type": "stream",
     "text": [
      "┌──────────────┐\n",
      "│ count_star() │\n",
      "│    int64     │\n",
      "├──────────────┤\n",
      "│       634440 │\n",
      "└──────────────┘\n",
      "\n",
      "CPU times: user 32.5 ms, sys: 27.9 ms, total: 60.3 ms\n",
      "Wall time: 74.7 ms\n"
     ]
    }
   ],
   "source": [
    "%%time\n",
    "\n",
    "get_num_rows(get_blocks_folder(y))"
   ]
  },
  {
   "cell_type": "code",
   "execution_count": 54,
   "id": "cfdc20ce-8c68-4d11-80aa-62d9250b2749",
   "metadata": {
    "tags": []
   },
   "outputs": [
    {
     "name": "stdout",
     "output_type": "stream",
     "text": [
      "┌──────────────┐\n",
      "│ count_star() │\n",
      "│    int64     │\n",
      "├──────────────┤\n",
      "│     93492934 │\n",
      "└──────────────┘\n",
      "\n",
      "CPU times: user 115 ms, sys: 26 ms, total: 141 ms\n",
      "Wall time: 64.2 ms\n"
     ]
    }
   ],
   "source": [
    "%%time\n",
    "\n",
    "get_num_rows(get_tx_folder(y))"
   ]
  },
  {
   "cell_type": "markdown",
   "id": "6906388a-2857-4b37-9338-78174a0ebb05",
   "metadata": {},
   "source": [
    "### Get time range"
   ]
  },
  {
   "cell_type": "code",
   "execution_count": 10,
   "id": "c68affb0-c861-40d3-9d32-b8f11496ce56",
   "metadata": {
    "tags": []
   },
   "outputs": [],
   "source": [
    "def get_time_range(folder):\n",
    "\n",
    "    one_col = ingest_pq(\"timestamp\", folder = folder)\n",
    "\n",
    "    min_max_time = duckdb.sql(\"\"\"\n",
    "                    SELECT \n",
    "                    MIN(TO_TIMESTAMP(timestamp)) FILTER (WHERE timestamp > 0) AS min_time, \n",
    "                    MAX(TO_TIMESTAMP(timestamp)) AS max_time\n",
    "                    FROM one_col   \n",
    "                    \"\"\")\n",
    "\n",
    "    return min_max_time   "
   ]
  },
  {
   "cell_type": "code",
   "execution_count": 11,
   "id": "709e750d-30b2-48f4-a273-9a7c00def53d",
   "metadata": {
    "tags": []
   },
   "outputs": [
    {
     "name": "stdout",
     "output_type": "stream",
     "text": [
      "CPU times: user 1.55 ms, sys: 3 ms, total: 4.55 ms\n",
      "Wall time: 3.66 ms\n"
     ]
    },
    {
     "data": {
      "text/plain": [
       "┌──────────────────────────┬──────────────────────────┐\n",
       "│         min_time         │         max_time         │\n",
       "│ timestamp with time zone │ timestamp with time zone │\n",
       "├──────────────────────────┼──────────────────────────┤\n",
       "│ 2016-11-17 01:40:08+01   │ 2025-03-25 22:17:35+01   │\n",
       "└──────────────────────────┴──────────────────────────┘"
      ]
     },
     "execution_count": 11,
     "metadata": {},
     "output_type": "execute_result"
    }
   ],
   "source": [
    "%%time\n",
    "\n",
    "get_time_range(get_blocks_folder(y))"
   ]
  },
  {
   "cell_type": "markdown",
   "id": "2926e7de-5298-4841-8751-69ee23c4e4a5",
   "metadata": {},
   "source": [
    "### Filter blocks"
   ]
  },
  {
   "cell_type": "code",
   "execution_count": 4,
   "id": "d33354ae-6438-4353-b030-bef5cbb4f3c0",
   "metadata": {
    "tags": []
   },
   "outputs": [],
   "source": [
    "def get_blocks_filtered(t_start, t_end, folder):\n",
    "\n",
    "    dim_cols = ingest_pq(\"block_number\", \"timestamp\",\n",
    "                          folder = folder)\n",
    "\n",
    "    filter_blocks = duckdb.sql(f\"\"\"                                                              \n",
    "                                SELECT * FROM (\n",
    "                                  SELECT block_number, TO_TIMESTAMP(timestamp) AS timestamp\n",
    "                                  FROM dim_cols\n",
    "                                )\n",
    "                                WHERE timestamp BETWEEN '{t_start}' AND '{t_end}'\n",
    "                               \"\"\")\n",
    "\n",
    "    return filter_blocks    "
   ]
  },
  {
   "cell_type": "code",
   "execution_count": 5,
   "id": "943f70f6-50ae-4209-91f7-a237f718d19b",
   "metadata": {
    "tags": []
   },
   "outputs": [],
   "source": [
    "def get_blocks_min_max(filter_blocks):\n",
    "\n",
    "    block_range = duckdb.sql(f\"\"\"\n",
    "                             SELECT \n",
    "                               MIN(block_number) AS min_block,\n",
    "                               MAX(block_number) AS max_block\n",
    "                             FROM filter_blocks\n",
    "                             \"\"\").fetchone()\n",
    "\n",
    "    return block_range    "
   ]
  },
  {
   "cell_type": "markdown",
   "id": "8971f947-c3ac-4110-931c-00a4472fdf87",
   "metadata": {},
   "source": [
    "### Block level analytics"
   ]
  },
  {
   "cell_type": "markdown",
   "id": "cb15462c-5c3d-4d42-baf8-498236dc6531",
   "metadata": {},
   "source": [
    "#### Tx count per block"
   ]
  },
  {
   "cell_type": "code",
   "execution_count": 30,
   "id": "90a97a5c-99ef-4d8b-8d1e-8a2e80651900",
   "metadata": {
    "tags": []
   },
   "outputs": [],
   "source": [
    "def get_tx_count_per_block(t_start, t_end, folder):\n",
    "    \n",
    "    blocks = get_blocks_filtered(t_start, t_end, get_blocks_folder(folder))\n",
    "    min_block, max_block = get_blocks_min_max(blocks)\n",
    "\n",
    "    tx_cols = ingest_pq(\"block_number\",\n",
    "                        \"success\",\n",
    "                        folder = get_tx_folder(folder)\n",
    "                       )\n",
    "    \n",
    "    count_per_block = duckdb.sql(f\"\"\"\n",
    "                                    SELECT \n",
    "                                        tx.block_number, \n",
    "                                        b.timestamp, \n",
    "                                        COUNT(*) AS count_tx\n",
    "                                    FROM (\n",
    "                                      SELECT block_number, success \n",
    "                                      FROM tx_cols\n",
    "                                      WHERE success IS TRUE\n",
    "                                      AND block_number >= {min_block}\n",
    "                                      AND block_number <= {max_block}\n",
    "                                    ) tx \n",
    "                                    INNER JOIN blocks b\n",
    "                                        ON tx.block_number = b.block_number\n",
    "                                    GROUP BY \n",
    "                                        tx.block_number, \n",
    "                                        b.timestamp\n",
    "                                    ORDER BY count_tx DESC\n",
    "                                    LIMIT 100\n",
    "                                 \"\"\")       \n",
    "       \n",
    "    return count_per_block"
   ]
  },
  {
   "cell_type": "code",
   "execution_count": 32,
   "id": "ee65878f-47cb-4d1a-b7ed-9eef1066986a",
   "metadata": {
    "tags": []
   },
   "outputs": [
    {
     "name": "stdout",
     "output_type": "stream",
     "text": [
      "CPU times: user 1min 38s, sys: 18.9 s, total: 1min 57s\n",
      "Wall time: 14.3 s\n"
     ]
    },
    {
     "data": {
      "text/html": [
       "<div>\n",
       "<style scoped>\n",
       "    .dataframe tbody tr th:only-of-type {\n",
       "        vertical-align: middle;\n",
       "    }\n",
       "\n",
       "    .dataframe tbody tr th {\n",
       "        vertical-align: top;\n",
       "    }\n",
       "\n",
       "    .dataframe thead th {\n",
       "        text-align: right;\n",
       "    }\n",
       "</style>\n",
       "<table border=\"1\" class=\"dataframe\">\n",
       "  <thead>\n",
       "    <tr style=\"text-align: right;\">\n",
       "      <th></th>\n",
       "      <th>block_number</th>\n",
       "      <th>timestamp</th>\n",
       "      <th>count_tx</th>\n",
       "    </tr>\n",
       "  </thead>\n",
       "  <tbody>\n",
       "    <tr>\n",
       "      <th>0</th>\n",
       "      <td>19879530</td>\n",
       "      <td>2024-05-16 04:22:47+02:00</td>\n",
       "      <td>1409</td>\n",
       "    </tr>\n",
       "    <tr>\n",
       "      <th>1</th>\n",
       "      <td>19865108</td>\n",
       "      <td>2024-05-14 03:55:35+02:00</td>\n",
       "      <td>1399</td>\n",
       "    </tr>\n",
       "    <tr>\n",
       "      <th>2</th>\n",
       "      <td>20566170</td>\n",
       "      <td>2024-08-20 02:11:11+02:00</td>\n",
       "      <td>1396</td>\n",
       "    </tr>\n",
       "    <tr>\n",
       "      <th>3</th>\n",
       "      <td>20566207</td>\n",
       "      <td>2024-08-20 02:18:35+02:00</td>\n",
       "      <td>1396</td>\n",
       "    </tr>\n",
       "    <tr>\n",
       "      <th>4</th>\n",
       "      <td>19864570</td>\n",
       "      <td>2024-05-14 02:07:23+02:00</td>\n",
       "      <td>1389</td>\n",
       "    </tr>\n",
       "    <tr>\n",
       "      <th>...</th>\n",
       "      <td>...</td>\n",
       "      <td>...</td>\n",
       "      <td>...</td>\n",
       "    </tr>\n",
       "    <tr>\n",
       "      <th>95</th>\n",
       "      <td>19885302</td>\n",
       "      <td>2024-05-16 23:44:47+02:00</td>\n",
       "      <td>1274</td>\n",
       "    </tr>\n",
       "    <tr>\n",
       "      <th>96</th>\n",
       "      <td>19537267</td>\n",
       "      <td>2024-03-29 05:25:23+01:00</td>\n",
       "      <td>1274</td>\n",
       "    </tr>\n",
       "    <tr>\n",
       "      <th>97</th>\n",
       "      <td>18330408</td>\n",
       "      <td>2023-10-12 01:16:35+02:00</td>\n",
       "      <td>1273</td>\n",
       "    </tr>\n",
       "    <tr>\n",
       "      <th>98</th>\n",
       "      <td>17941432</td>\n",
       "      <td>2023-08-18 13:39:59+02:00</td>\n",
       "      <td>1273</td>\n",
       "    </tr>\n",
       "    <tr>\n",
       "      <th>99</th>\n",
       "      <td>19879465</td>\n",
       "      <td>2024-05-16 04:09:47+02:00</td>\n",
       "      <td>1272</td>\n",
       "    </tr>\n",
       "  </tbody>\n",
       "</table>\n",
       "<p>100 rows × 3 columns</p>\n",
       "</div>"
      ],
      "text/plain": [
       "    block_number                 timestamp  count_tx\n",
       "0       19879530 2024-05-16 04:22:47+02:00      1409\n",
       "1       19865108 2024-05-14 03:55:35+02:00      1399\n",
       "2       20566170 2024-08-20 02:11:11+02:00      1396\n",
       "3       20566207 2024-08-20 02:18:35+02:00      1396\n",
       "4       19864570 2024-05-14 02:07:23+02:00      1389\n",
       "..           ...                       ...       ...\n",
       "95      19885302 2024-05-16 23:44:47+02:00      1274\n",
       "96      19537267 2024-03-29 05:25:23+01:00      1274\n",
       "97      18330408 2023-10-12 01:16:35+02:00      1273\n",
       "98      17941432 2023-08-18 13:39:59+02:00      1273\n",
       "99      19879465 2024-05-16 04:09:47+02:00      1272\n",
       "\n",
       "[100 rows x 3 columns]"
      ]
     },
     "execution_count": 32,
     "metadata": {},
     "output_type": "execute_result"
    }
   ],
   "source": [
    "%%time\n",
    "\n",
    "get_tx_count_per_block(\"2023-01-01\", \"2025-01-01\", y3).df()"
   ]
  },
  {
   "cell_type": "markdown",
   "id": "9137047a-8808-4542-858e-f5e307daf48f",
   "metadata": {},
   "source": [
    "#### Get total ETH per block"
   ]
  },
  {
   "cell_type": "code",
   "execution_count": 38,
   "id": "59f7f31f-531a-4708-bbab-7d50b57f16bc",
   "metadata": {
    "tags": []
   },
   "outputs": [],
   "source": [
    "def get_eth_per_block(t_start, t_end, folder):\n",
    "    \n",
    "    blocks = get_blocks_filtered(t_start, t_end, get_blocks_folder(folder))\n",
    "    min_block, max_block = get_blocks_min_max(blocks)\n",
    "\n",
    "    tx_cols = ingest_pq(\"block_number\",\n",
    "                        \"success\",\n",
    "                        \"value_f64\",\n",
    "                        folder = get_tx_folder(folder)\n",
    "                       )\n",
    "    \n",
    "    eth_per_block = duckdb.sql(f\"\"\"\n",
    "                                 SELECT \n",
    "                                      tx.block_number, \n",
    "                                      b.timestamp, \n",
    "                                      COUNT(*) AS count_tx,\n",
    "                                      SUM(tx.value_f64 / 1e18) AS total_tx_eth\n",
    "                                 FROM (\n",
    "                                   SELECT block_number, success, value_f64 \n",
    "                                   FROM tx_cols\n",
    "                                   WHERE success IS TRUE\n",
    "                                   AND block_number >= {min_block}\n",
    "                                   AND block_number <= {max_block}\n",
    "                                 ) tx \n",
    "                                 INNER JOIN blocks b\n",
    "                                     ON tx.block_number = b.block_number\n",
    "                                 GROUP BY \n",
    "                                     tx.block_number, \n",
    "                                     b.timestamp\n",
    "                                 ORDER BY total_tx_eth DESC\n",
    "                                 LIMIT 100\n",
    "                               \"\"\")   \n",
    "       \n",
    "    return eth_per_block"
   ]
  },
  {
   "cell_type": "code",
   "execution_count": 40,
   "id": "a41aee13-a953-4e81-8da2-fcbe135efe6e",
   "metadata": {
    "tags": []
   },
   "outputs": [
    {
     "name": "stdout",
     "output_type": "stream",
     "text": [
      "CPU times: user 1min 56s, sys: 38 s, total: 2min 34s\n",
      "Wall time: 39.5 s\n"
     ]
    },
    {
     "data": {
      "text/html": [
       "<div>\n",
       "<style scoped>\n",
       "    .dataframe tbody tr th:only-of-type {\n",
       "        vertical-align: middle;\n",
       "    }\n",
       "\n",
       "    .dataframe tbody tr th {\n",
       "        vertical-align: top;\n",
       "    }\n",
       "\n",
       "    .dataframe thead th {\n",
       "        text-align: right;\n",
       "    }\n",
       "</style>\n",
       "<table border=\"1\" class=\"dataframe\">\n",
       "  <thead>\n",
       "    <tr style=\"text-align: right;\">\n",
       "      <th></th>\n",
       "      <th>block_number</th>\n",
       "      <th>timestamp</th>\n",
       "      <th>count_tx</th>\n",
       "      <th>total_tx_eth</th>\n",
       "    </tr>\n",
       "  </thead>\n",
       "  <tbody>\n",
       "    <tr>\n",
       "      <th>0</th>\n",
       "      <td>19979969</td>\n",
       "      <td>2024-05-30 05:26:11+02:00</td>\n",
       "      <td>121</td>\n",
       "      <td>550014.467481</td>\n",
       "    </tr>\n",
       "    <tr>\n",
       "      <th>1</th>\n",
       "      <td>16601138</td>\n",
       "      <td>2023-02-10 22:47:47+01:00</td>\n",
       "      <td>135</td>\n",
       "      <td>460681.672990</td>\n",
       "    </tr>\n",
       "    <tr>\n",
       "      <th>2</th>\n",
       "      <td>17166640</td>\n",
       "      <td>2023-05-01 16:42:23+02:00</td>\n",
       "      <td>130</td>\n",
       "      <td>459342.216039</td>\n",
       "    </tr>\n",
       "    <tr>\n",
       "      <th>3</th>\n",
       "      <td>16983245</td>\n",
       "      <td>2023-04-05 16:43:23+02:00</td>\n",
       "      <td>168</td>\n",
       "      <td>454473.409200</td>\n",
       "    </tr>\n",
       "    <tr>\n",
       "      <th>4</th>\n",
       "      <td>17475090</td>\n",
       "      <td>2023-06-14 04:00:47+02:00</td>\n",
       "      <td>268</td>\n",
       "      <td>450030.508428</td>\n",
       "    </tr>\n",
       "    <tr>\n",
       "      <th>...</th>\n",
       "      <td>...</td>\n",
       "      <td>...</td>\n",
       "      <td>...</td>\n",
       "      <td>...</td>\n",
       "    </tr>\n",
       "    <tr>\n",
       "      <th>95</th>\n",
       "      <td>17590152</td>\n",
       "      <td>2023-06-30 07:54:59+02:00</td>\n",
       "      <td>110</td>\n",
       "      <td>121498.033218</td>\n",
       "    </tr>\n",
       "    <tr>\n",
       "      <th>96</th>\n",
       "      <td>16808455</td>\n",
       "      <td>2023-03-12 01:40:47+01:00</td>\n",
       "      <td>102</td>\n",
       "      <td>120885.586641</td>\n",
       "    </tr>\n",
       "    <tr>\n",
       "      <th>97</th>\n",
       "      <td>19229078</td>\n",
       "      <td>2024-02-14 23:09:23+01:00</td>\n",
       "      <td>152</td>\n",
       "      <td>120342.489459</td>\n",
       "    </tr>\n",
       "    <tr>\n",
       "      <th>98</th>\n",
       "      <td>18116584</td>\n",
       "      <td>2023-09-12 02:08:11+02:00</td>\n",
       "      <td>171</td>\n",
       "      <td>120338.212185</td>\n",
       "    </tr>\n",
       "    <tr>\n",
       "      <th>99</th>\n",
       "      <td>19229066</td>\n",
       "      <td>2024-02-14 23:06:59+01:00</td>\n",
       "      <td>140</td>\n",
       "      <td>120080.379463</td>\n",
       "    </tr>\n",
       "  </tbody>\n",
       "</table>\n",
       "<p>100 rows × 4 columns</p>\n",
       "</div>"
      ],
      "text/plain": [
       "    block_number                 timestamp  count_tx   total_tx_eth\n",
       "0       19979969 2024-05-30 05:26:11+02:00       121  550014.467481\n",
       "1       16601138 2023-02-10 22:47:47+01:00       135  460681.672990\n",
       "2       17166640 2023-05-01 16:42:23+02:00       130  459342.216039\n",
       "3       16983245 2023-04-05 16:43:23+02:00       168  454473.409200\n",
       "4       17475090 2023-06-14 04:00:47+02:00       268  450030.508428\n",
       "..           ...                       ...       ...            ...\n",
       "95      17590152 2023-06-30 07:54:59+02:00       110  121498.033218\n",
       "96      16808455 2023-03-12 01:40:47+01:00       102  120885.586641\n",
       "97      19229078 2024-02-14 23:09:23+01:00       152  120342.489459\n",
       "98      18116584 2023-09-12 02:08:11+02:00       171  120338.212185\n",
       "99      19229066 2024-02-14 23:06:59+01:00       140  120080.379463\n",
       "\n",
       "[100 rows x 4 columns]"
      ]
     },
     "execution_count": 40,
     "metadata": {},
     "output_type": "execute_result"
    }
   ],
   "source": [
    "%%time\n",
    "\n",
    "get_eth_per_block(\"2023-01-01\", \"2025-01-01\", y3).df()"
   ]
  },
  {
   "cell_type": "markdown",
   "id": "a84f8ef7-411d-4216-ba95-c56d46ded780",
   "metadata": {},
   "source": [
    "#### Get total gas used % per block"
   ]
  },
  {
   "cell_type": "code",
   "execution_count": 41,
   "id": "b2cf9bd7-65ed-4d87-ad02-7fb0f5dc04d7",
   "metadata": {
    "tags": []
   },
   "outputs": [],
   "source": [
    "def get_gas_per_block(t_start, t_end, folder):\n",
    "    \n",
    "    blocks = get_blocks_filtered(t_start, t_end, get_blocks_folder(folder))\n",
    "    min_block, max_block = get_blocks_min_max(blocks)\n",
    "\n",
    "    tx_cols = ingest_pq(\"block_number\",\n",
    "                        \"success\",\n",
    "                        \"gas_limit\",\n",
    "                        \"gas_used\",\n",
    "                        folder = get_tx_folder(folder)\n",
    "                       )\n",
    "    \n",
    "    gas_per_block = duckdb.sql(f\"\"\"    \n",
    "                               SELECT \n",
    "                                 tx.block_number, \n",
    "                                 b.timestamp, \n",
    "                                 SUM(tx.gas_limit) AS sum_gas_limit,\n",
    "                                 SUM(tx.gas_used) AS sum_gas_used,\n",
    "                                 (SUM(tx.gas_used) * 100.0 / NULLIF(SUM(tx.gas_limit), 0)) AS gas_pert\n",
    "                                    \n",
    "                                FROM (\n",
    "                                  SELECT *\n",
    "                                  FROM tx_cols\n",
    "                                  WHERE success IS TRUE\n",
    "                                  AND block_number >= {min_block}\n",
    "                                  AND block_number <= {max_block}\n",
    "                                ) tx\n",
    "\n",
    "                                INNER JOIN blocks b\n",
    "                                    ON tx.block_number = b.block_number\n",
    "                                    \n",
    "                                GROUP BY \n",
    "                                    tx.block_number, \n",
    "                                    b.timestamp\n",
    "                                -- ORDER BY sum_gas_used DESC\n",
    "                                -- LIMIT 100;\n",
    "                                \"\"\")    \n",
    "       \n",
    "    return gas_per_block"
   ]
  },
  {
   "cell_type": "code",
   "execution_count": 42,
   "id": "51c9c454-4578-4414-8cf0-49eb758aace0",
   "metadata": {
    "tags": []
   },
   "outputs": [],
   "source": [
    "# %%time\n",
    "\n",
    "# get_gas_per_block(\"2020-01-01\", \"2025-01-01\", y).df()"
   ]
  },
  {
   "cell_type": "markdown",
   "id": "df3ad2cb-e1cd-4f75-9afd-e137d8985120",
   "metadata": {},
   "source": [
    "#### Get total gas % distribution per block"
   ]
  },
  {
   "cell_type": "code",
   "execution_count": 125,
   "id": "904fa3bf-2a79-4b63-ba16-4ea0d8b99d29",
   "metadata": {
    "tags": []
   },
   "outputs": [],
   "source": [
    "def calculate_gas_dist(gas_data, bin_size):\n",
    "    \n",
    "    gas_dist = duckdb.sql(f\"\"\"\n",
    "                          WITH non_null_gas_pert AS (\n",
    "                            SELECT gas_pert\n",
    "                            FROM gas_data\n",
    "                            WHERE gas_pert IS NOT NULL\n",
    "                          ),\n",
    "\n",
    "                          binned AS (\n",
    "                              SELECT \n",
    "                                  FLOOR(gas_pert / {bin_size}) * {bin_size} AS lower_gas_pert\n",
    "                              FROM non_null_gas_pert\n",
    "                          ),\n",
    "\n",
    "                          counted AS (\n",
    "                              SELECT \n",
    "                                  lower_gas_pert,\n",
    "                                  COUNT(*) AS count_blocks\n",
    "                              FROM binned\n",
    "                              GROUP BY lower_gas_pert\n",
    "                          ),\n",
    "\n",
    "                          finalized AS (\n",
    "                              SELECT \n",
    "                                  lower_gas_pert,\n",
    "                                  CASE \n",
    "                                      WHEN lower_gas_pert < 100 \n",
    "                                          THEN lower_gas_pert + {bin_size}\n",
    "                                      ELSE lower_gas_pert\n",
    "                                  END AS upper_gas_pert,\n",
    "                                  count_blocks\n",
    "                              FROM counted\n",
    "                          )\n",
    "\n",
    "                          SELECT *\n",
    "                          FROM finalized\n",
    "                          ORDER BY lower_gas_pert DESC;\n",
    "                          \"\"\")\n",
    "    \n",
    "    return gas_dist "
   ]
  },
  {
   "cell_type": "code",
   "execution_count": 119,
   "id": "d99dd546-97f2-41fc-b01c-d25f5f757a03",
   "metadata": {
    "tags": []
   },
   "outputs": [],
   "source": [
    "def get_gas_dist_per_block(t_start, t_end, bin_size, folder):\n",
    "    \n",
    "    gas_per_block = get_gas_per_block(t_start, t_end, folder)\n",
    "    \n",
    "    gas_dist = calculate_gas_dist(gas_per_block, bin_size)   \n",
    "       \n",
    "    return gas_dist"
   ]
  },
  {
   "cell_type": "code",
   "execution_count": 113,
   "id": "d521ce82-c771-4620-948c-7b728289eaf7",
   "metadata": {
    "tags": []
   },
   "outputs": [
    {
     "name": "stdout",
     "output_type": "stream",
     "text": [
      "CPU times: user 7.53 s, sys: 375 ms, total: 7.91 s\n",
      "Wall time: 411 ms\n"
     ]
    },
    {
     "data": {
      "text/html": [
       "<div>\n",
       "<style scoped>\n",
       "    .dataframe tbody tr th:only-of-type {\n",
       "        vertical-align: middle;\n",
       "    }\n",
       "\n",
       "    .dataframe tbody tr th {\n",
       "        vertical-align: top;\n",
       "    }\n",
       "\n",
       "    .dataframe thead th {\n",
       "        text-align: right;\n",
       "    }\n",
       "</style>\n",
       "<table border=\"1\" class=\"dataframe\">\n",
       "  <thead>\n",
       "    <tr style=\"text-align: right;\">\n",
       "      <th></th>\n",
       "      <th>lower_gas_pert</th>\n",
       "      <th>upper_gas_pert</th>\n",
       "      <th>count_blocks</th>\n",
       "    </tr>\n",
       "  </thead>\n",
       "  <tbody>\n",
       "    <tr>\n",
       "      <th>0</th>\n",
       "      <td>100.0</td>\n",
       "      <td>100.0</td>\n",
       "      <td>44</td>\n",
       "    </tr>\n",
       "    <tr>\n",
       "      <th>1</th>\n",
       "      <td>90.0</td>\n",
       "      <td>100.0</td>\n",
       "      <td>632</td>\n",
       "    </tr>\n",
       "    <tr>\n",
       "      <th>2</th>\n",
       "      <td>80.0</td>\n",
       "      <td>90.0</td>\n",
       "      <td>2540</td>\n",
       "    </tr>\n",
       "    <tr>\n",
       "      <th>3</th>\n",
       "      <td>70.0</td>\n",
       "      <td>80.0</td>\n",
       "      <td>13101</td>\n",
       "    </tr>\n",
       "    <tr>\n",
       "      <th>4</th>\n",
       "      <td>60.0</td>\n",
       "      <td>70.0</td>\n",
       "      <td>46916</td>\n",
       "    </tr>\n",
       "    <tr>\n",
       "      <th>5</th>\n",
       "      <td>50.0</td>\n",
       "      <td>60.0</td>\n",
       "      <td>94598</td>\n",
       "    </tr>\n",
       "    <tr>\n",
       "      <th>6</th>\n",
       "      <td>40.0</td>\n",
       "      <td>50.0</td>\n",
       "      <td>112950</td>\n",
       "    </tr>\n",
       "    <tr>\n",
       "      <th>7</th>\n",
       "      <td>30.0</td>\n",
       "      <td>40.0</td>\n",
       "      <td>79230</td>\n",
       "    </tr>\n",
       "    <tr>\n",
       "      <th>8</th>\n",
       "      <td>20.0</td>\n",
       "      <td>30.0</td>\n",
       "      <td>42034</td>\n",
       "    </tr>\n",
       "    <tr>\n",
       "      <th>9</th>\n",
       "      <td>10.0</td>\n",
       "      <td>20.0</td>\n",
       "      <td>10183</td>\n",
       "    </tr>\n",
       "    <tr>\n",
       "      <th>10</th>\n",
       "      <td>0.0</td>\n",
       "      <td>10.0</td>\n",
       "      <td>1280</td>\n",
       "    </tr>\n",
       "  </tbody>\n",
       "</table>\n",
       "</div>"
      ],
      "text/plain": [
       "    lower_gas_pert  upper_gas_pert  count_blocks\n",
       "0            100.0           100.0            44\n",
       "1             90.0           100.0           632\n",
       "2             80.0            90.0          2540\n",
       "3             70.0            80.0         13101\n",
       "4             60.0            70.0         46916\n",
       "5             50.0            60.0         94598\n",
       "6             40.0            50.0        112950\n",
       "7             30.0            40.0         79230\n",
       "8             20.0            30.0         42034\n",
       "9             10.0            20.0         10183\n",
       "10             0.0            10.0          1280"
      ]
     },
     "execution_count": 113,
     "metadata": {},
     "output_type": "execute_result"
    }
   ],
   "source": [
    "%%time\n",
    "\n",
    "get_gas_dist_per_block(\"2020-01-01\", \"2025-01-01\", 10, y).df()"
   ]
  },
  {
   "cell_type": "code",
   "execution_count": 47,
   "id": "461a0a24-f354-4479-bf47-2121962b1c8b",
   "metadata": {
    "tags": []
   },
   "outputs": [
    {
     "name": "stdout",
     "output_type": "stream",
     "text": [
      "CPU times: user 2min 45s, sys: 42.8 s, total: 3min 28s\n",
      "Wall time: 37.4 s\n"
     ]
    },
    {
     "data": {
      "text/html": [
       "<div>\n",
       "<style scoped>\n",
       "    .dataframe tbody tr th:only-of-type {\n",
       "        vertical-align: middle;\n",
       "    }\n",
       "\n",
       "    .dataframe tbody tr th {\n",
       "        vertical-align: top;\n",
       "    }\n",
       "\n",
       "    .dataframe thead th {\n",
       "        text-align: right;\n",
       "    }\n",
       "</style>\n",
       "<table border=\"1\" class=\"dataframe\">\n",
       "  <thead>\n",
       "    <tr style=\"text-align: right;\">\n",
       "      <th></th>\n",
       "      <th>lower_gas_pert</th>\n",
       "      <th>upper_gas_pert</th>\n",
       "      <th>count_blocks</th>\n",
       "    </tr>\n",
       "  </thead>\n",
       "  <tbody>\n",
       "    <tr>\n",
       "      <th>0</th>\n",
       "      <td>100.0</td>\n",
       "      <td>100.0</td>\n",
       "      <td>97</td>\n",
       "    </tr>\n",
       "    <tr>\n",
       "      <th>1</th>\n",
       "      <td>90.0</td>\n",
       "      <td>100.0</td>\n",
       "      <td>2223</td>\n",
       "    </tr>\n",
       "    <tr>\n",
       "      <th>2</th>\n",
       "      <td>80.0</td>\n",
       "      <td>90.0</td>\n",
       "      <td>12093</td>\n",
       "    </tr>\n",
       "    <tr>\n",
       "      <th>3</th>\n",
       "      <td>70.0</td>\n",
       "      <td>80.0</td>\n",
       "      <td>72080</td>\n",
       "    </tr>\n",
       "    <tr>\n",
       "      <th>4</th>\n",
       "      <td>60.0</td>\n",
       "      <td>70.0</td>\n",
       "      <td>412805</td>\n",
       "    </tr>\n",
       "    <tr>\n",
       "      <th>5</th>\n",
       "      <td>50.0</td>\n",
       "      <td>60.0</td>\n",
       "      <td>1188648</td>\n",
       "    </tr>\n",
       "    <tr>\n",
       "      <th>6</th>\n",
       "      <td>40.0</td>\n",
       "      <td>50.0</td>\n",
       "      <td>1483939</td>\n",
       "    </tr>\n",
       "    <tr>\n",
       "      <th>7</th>\n",
       "      <td>30.0</td>\n",
       "      <td>40.0</td>\n",
       "      <td>1046603</td>\n",
       "    </tr>\n",
       "    <tr>\n",
       "      <th>8</th>\n",
       "      <td>20.0</td>\n",
       "      <td>30.0</td>\n",
       "      <td>804269</td>\n",
       "    </tr>\n",
       "    <tr>\n",
       "      <th>9</th>\n",
       "      <td>10.0</td>\n",
       "      <td>20.0</td>\n",
       "      <td>183778</td>\n",
       "    </tr>\n",
       "    <tr>\n",
       "      <th>10</th>\n",
       "      <td>0.0</td>\n",
       "      <td>10.0</td>\n",
       "      <td>7972</td>\n",
       "    </tr>\n",
       "  </tbody>\n",
       "</table>\n",
       "</div>"
      ],
      "text/plain": [
       "    lower_gas_pert  upper_gas_pert  count_blocks\n",
       "0            100.0           100.0            97\n",
       "1             90.0           100.0          2223\n",
       "2             80.0            90.0         12093\n",
       "3             70.0            80.0         72080\n",
       "4             60.0            70.0        412805\n",
       "5             50.0            60.0       1188648\n",
       "6             40.0            50.0       1483939\n",
       "7             30.0            40.0       1046603\n",
       "8             20.0            30.0        804269\n",
       "9             10.0            20.0        183778\n",
       "10             0.0            10.0          7972"
      ]
     },
     "execution_count": 47,
     "metadata": {},
     "output_type": "execute_result"
    }
   ],
   "source": [
    "%%time\n",
    "\n",
    "get_gas_dist_per_block(\"2023-01-01\", \"2025-01-01\", 10, y3).df()"
   ]
  },
  {
   "cell_type": "markdown",
   "id": "ae21d904-9386-4890-806b-bfc650f9fd0b",
   "metadata": {},
   "source": [
    "### Tx level analytics"
   ]
  },
  {
   "cell_type": "markdown",
   "id": "d95bc41a-ceb7-4133-ba75-c89c676c2390",
   "metadata": {},
   "source": [
    "#### Get ETH per tx"
   ]
  },
  {
   "cell_type": "code",
   "execution_count": 97,
   "id": "9c4c3148-7059-4811-a2ad-b88372ded60c",
   "metadata": {
    "tags": []
   },
   "outputs": [],
   "source": [
    "def get_eth_per_tx(t_start, t_end, folder):\n",
    "    \n",
    "    blocks = get_blocks_filtered(t_start, t_end, get_blocks_folder(folder))\n",
    "    min_block, max_block = get_blocks_min_max(blocks)\n",
    "\n",
    "    tx_cols = ingest_pq(\"block_number\",\n",
    "                        \"success\",\n",
    "                        \"value_f64\",\n",
    "                        \"transaction_hash\",\n",
    "                        folder = get_tx_folder(folder)\n",
    "                       )\n",
    "    \n",
    "    eth_per_tx = duckdb.sql(f\"\"\"    \n",
    "                             SELECT \n",
    "                               tx.block_number, \n",
    "                               b.timestamp, \n",
    "                               tx.value_f64 / 1e18 AS tx_eth,\n",
    "                               '0x' || TO_HEX(tx.transaction_hash) AS transaction_hash_encode                                 \n",
    "                                 \n",
    "                             FROM (\n",
    "                               SELECT *\n",
    "                               FROM tx_cols\n",
    "                               WHERE success IS TRUE\n",
    "                               AND block_number >= {min_block}\n",
    "                               AND block_number <= {max_block}\n",
    "                             ) tx\n",
    "                             \n",
    "                             INNER JOIN blocks b\n",
    "                                 ON tx.block_number = b.block_number                                 \n",
    "                                                       \n",
    "                             -- ORDER BY tx_eth DESC\n",
    "                             -- LIMIT 10;\n",
    "                             \"\"\")    \n",
    "       \n",
    "    return eth_per_tx"
   ]
  },
  {
   "cell_type": "code",
   "execution_count": 87,
   "id": "d131b4b9-57ae-4e96-bb00-f30fdf34d7c8",
   "metadata": {
    "tags": []
   },
   "outputs": [],
   "source": [
    "# %%time\n",
    "\n",
    "# get_eth_per_tx(\"2023-01-01\", \"2025-01-01\", y3).df()"
   ]
  },
  {
   "cell_type": "markdown",
   "id": "723c28ce-72c3-4d2d-a18f-c80450699ed0",
   "metadata": {},
   "source": [
    "#### Get gas price per tx"
   ]
  },
  {
   "cell_type": "code",
   "execution_count": 94,
   "id": "23a793e2-e1de-4034-87e6-0cb03ebadebe",
   "metadata": {
    "tags": []
   },
   "outputs": [],
   "source": [
    "def get_gas_price_per_tx(t_start, t_end, folder):\n",
    "    \n",
    "    blocks = get_blocks_filtered(t_start, t_end, get_blocks_folder(folder))\n",
    "    min_block, max_block = get_blocks_min_max(blocks)\n",
    "\n",
    "    tx_cols = ingest_pq(\"block_number\",\n",
    "                        \"success\",\n",
    "                        \"gas_price\",\n",
    "                        \"from_address\",\n",
    "                        \"to_address\",\n",
    "                        \"transaction_hash\",\n",
    "                        folder = get_tx_folder(folder)\n",
    "                       )\n",
    "    \n",
    "    gas_per_tx = duckdb.sql(f\"\"\"    \n",
    "                             SELECT \n",
    "                               tx.block_number, \n",
    "                               b.timestamp,\n",
    "                               -- Wei to Gwei\n",
    "                               tx.gas_price / 1e9 AS tx_gas_price,\n",
    "                               '0x' || TO_HEX(tx.transaction_hash) AS transaction_hash_encode,\n",
    "                               '0x' || TO_HEX(tx.from_address) AS from_address,\n",
    "                               '0x' || TO_HEX(tx.to_address) AS to_address\n",
    "                                 \n",
    "                             FROM (\n",
    "                               SELECT *\n",
    "                               FROM tx_cols\n",
    "                               WHERE success IS TRUE\n",
    "                               AND block_number >= {min_block}\n",
    "                               AND block_number <= {max_block}\n",
    "                             ) tx\n",
    "                             \n",
    "                             INNER JOIN blocks b\n",
    "                                 ON tx.block_number = b.block_number                                 \n",
    "                                                       \n",
    "                             ORDER BY tx_gas_price DESC\n",
    "                             LIMIT 10;\n",
    "                             \"\"\")    \n",
    "       \n",
    "    return gas_per_tx"
   ]
  },
  {
   "cell_type": "code",
   "execution_count": 96,
   "id": "0f8e4a4b-9f74-4bf3-a4b8-dbb1b039d68b",
   "metadata": {
    "tags": []
   },
   "outputs": [],
   "source": [
    "# %%time\n",
    "\n",
    "# get_gas_price_per_tx(\"2024-11-01\", \"2025-01-01\", y3).df()"
   ]
  },
  {
   "cell_type": "markdown",
   "id": "bacec72d-3704-4640-954f-5bd8ef92250f",
   "metadata": {},
   "source": [
    "#### Get ETH distribution per tx"
   ]
  },
  {
   "cell_type": "code",
   "execution_count": 104,
   "id": "2aaea5d4-3fb9-4a10-a239-a7cc51bc80b9",
   "metadata": {
    "tags": []
   },
   "outputs": [],
   "source": [
    "def get_eth_dist_per_tx(t_start, t_end, bin_size, folder):\n",
    "    \n",
    "    eth_per_tx = get_eth_per_tx(t_start, t_end, folder)\n",
    "    \n",
    "    eth_dist = duckdb.sql(f\"\"\"\n",
    "                          WITH non_null_tx_eth AS (\n",
    "                            SELECT tx_eth\n",
    "                            FROM eth_per_tx\n",
    "                            WHERE tx_eth IS NOT NULL\n",
    "                          ),\n",
    "\n",
    "                          binned AS (\n",
    "                              SELECT \n",
    "                                  FLOOR(tx_eth / {bin_size}) * {bin_size} AS lower_tx_eth\n",
    "                              FROM non_null_tx_eth\n",
    "                          ),\n",
    "\n",
    "                          counted AS (\n",
    "                              SELECT \n",
    "                                  lower_tx_eth,\n",
    "                                  COUNT(*) AS count_blocks\n",
    "                              FROM binned\n",
    "                              GROUP BY lower_tx_eth\n",
    "                          ),\n",
    "\n",
    "                          finalized AS (\n",
    "                              SELECT \n",
    "                                  lower_tx_eth,\n",
    "                                  CASE \n",
    "                                      WHEN lower_tx_eth < 550000 \n",
    "                                          THEN lower_tx_eth + {bin_size}\n",
    "                                      ELSE lower_tx_eth\n",
    "                                  END AS upper_tx_eth,\n",
    "                                  count_blocks\n",
    "                              FROM counted\n",
    "                          )\n",
    "\n",
    "                          SELECT *\n",
    "                          FROM finalized\n",
    "                          ORDER BY lower_tx_eth DESC;\n",
    "                          \"\"\")   \n",
    "       \n",
    "    return eth_dist"
   ]
  },
  {
   "cell_type": "code",
   "execution_count": 107,
   "id": "2bcfe07e-d98e-4827-8f54-f05e6155c471",
   "metadata": {
    "tags": []
   },
   "outputs": [
    {
     "name": "stdout",
     "output_type": "stream",
     "text": [
      "CPU times: user 2min 45s, sys: 59.9 s, total: 3min 44s\n",
      "Wall time: 56.8 s\n"
     ]
    },
    {
     "data": {
      "text/html": [
       "<div>\n",
       "<style scoped>\n",
       "    .dataframe tbody tr th:only-of-type {\n",
       "        vertical-align: middle;\n",
       "    }\n",
       "\n",
       "    .dataframe tbody tr th {\n",
       "        vertical-align: top;\n",
       "    }\n",
       "\n",
       "    .dataframe thead th {\n",
       "        text-align: right;\n",
       "    }\n",
       "</style>\n",
       "<table border=\"1\" class=\"dataframe\">\n",
       "  <thead>\n",
       "    <tr style=\"text-align: right;\">\n",
       "      <th></th>\n",
       "      <th>lower_tx_eth</th>\n",
       "      <th>upper_tx_eth</th>\n",
       "      <th>count_blocks</th>\n",
       "    </tr>\n",
       "  </thead>\n",
       "  <tbody>\n",
       "    <tr>\n",
       "      <th>0</th>\n",
       "      <td>1490000.0</td>\n",
       "      <td>1490000.0</td>\n",
       "      <td>1</td>\n",
       "    </tr>\n",
       "    <tr>\n",
       "      <th>1</th>\n",
       "      <td>799000.0</td>\n",
       "      <td>799000.0</td>\n",
       "      <td>1</td>\n",
       "    </tr>\n",
       "    <tr>\n",
       "      <th>2</th>\n",
       "      <td>716000.0</td>\n",
       "      <td>716000.0</td>\n",
       "      <td>1</td>\n",
       "    </tr>\n",
       "    <tr>\n",
       "      <th>3</th>\n",
       "      <td>584000.0</td>\n",
       "      <td>584000.0</td>\n",
       "      <td>1</td>\n",
       "    </tr>\n",
       "    <tr>\n",
       "      <th>4</th>\n",
       "      <td>550000.0</td>\n",
       "      <td>550000.0</td>\n",
       "      <td>1</td>\n",
       "    </tr>\n",
       "    <tr>\n",
       "      <th>...</th>\n",
       "      <td>...</td>\n",
       "      <td>...</td>\n",
       "      <td>...</td>\n",
       "    </tr>\n",
       "    <tr>\n",
       "      <th>199</th>\n",
       "      <td>4000.0</td>\n",
       "      <td>5000.0</td>\n",
       "      <td>8804</td>\n",
       "    </tr>\n",
       "    <tr>\n",
       "      <th>200</th>\n",
       "      <td>3000.0</td>\n",
       "      <td>4000.0</td>\n",
       "      <td>17352</td>\n",
       "    </tr>\n",
       "    <tr>\n",
       "      <th>201</th>\n",
       "      <td>2000.0</td>\n",
       "      <td>3000.0</td>\n",
       "      <td>33687</td>\n",
       "    </tr>\n",
       "    <tr>\n",
       "      <th>202</th>\n",
       "      <td>1000.0</td>\n",
       "      <td>2000.0</td>\n",
       "      <td>110954</td>\n",
       "    </tr>\n",
       "    <tr>\n",
       "      <th>203</th>\n",
       "      <td>0.0</td>\n",
       "      <td>1000.0</td>\n",
       "      <td>1188513585</td>\n",
       "    </tr>\n",
       "  </tbody>\n",
       "</table>\n",
       "<p>204 rows × 3 columns</p>\n",
       "</div>"
      ],
      "text/plain": [
       "     lower_tx_eth  upper_tx_eth  count_blocks\n",
       "0       1490000.0     1490000.0             1\n",
       "1        799000.0      799000.0             1\n",
       "2        716000.0      716000.0             1\n",
       "3        584000.0      584000.0             1\n",
       "4        550000.0      550000.0             1\n",
       "..            ...           ...           ...\n",
       "199        4000.0        5000.0          8804\n",
       "200        3000.0        4000.0         17352\n",
       "201        2000.0        3000.0         33687\n",
       "202        1000.0        2000.0        110954\n",
       "203           0.0        1000.0    1188513585\n",
       "\n",
       "[204 rows x 3 columns]"
      ]
     },
     "execution_count": 107,
     "metadata": {},
     "output_type": "execute_result"
    }
   ],
   "source": [
    "%%time\n",
    "\n",
    "get_eth_dist_per_tx(\"2022-01-01\", \"2025-01-01\", 1000, y3).df()"
   ]
  },
  {
   "cell_type": "markdown",
   "id": "2af48f03-73a8-441f-aff1-44384b60b905",
   "metadata": {},
   "source": [
    "#### Get gas consumed % distribution per tx"
   ]
  },
  {
   "cell_type": "code",
   "execution_count": 122,
   "id": "bdd1ee04-6c29-46cc-a722-58a87a6e14a0",
   "metadata": {
    "tags": []
   },
   "outputs": [],
   "source": [
    "def get_gas_dist_per_tx(t_start, t_end, bin_size, folder):\n",
    "    \n",
    "    blocks = get_blocks_filtered(t_start, t_end, get_blocks_folder(folder))\n",
    "    min_block, max_block = get_blocks_min_max(blocks)\n",
    "\n",
    "    tx_cols = ingest_pq(\"block_number\",\n",
    "                        \"success\",\n",
    "                        \"gas_limit\",\n",
    "                        \"gas_used\",\n",
    "                        folder = get_tx_folder(folder)\n",
    "                       )\n",
    "    \n",
    "    gas_per_tx = duckdb.sql(f\"\"\"    \n",
    "                               SELECT \n",
    "                                 tx.block_number,                                \n",
    "                                 ((tx.gas_used) * 100.0) / NULLIF(tx.gas_limit, 0) AS gas_pert\n",
    "                                    \n",
    "                                FROM (\n",
    "                                  SELECT *\n",
    "                                  FROM tx_cols\n",
    "                                  WHERE success IS TRUE\n",
    "                                  AND block_number >= {min_block}\n",
    "                                  AND block_number <= {max_block}\n",
    "                                ) tx\n",
    "                             \"\"\")\n",
    "    \n",
    "    gas_dist = calculate_gas_dist(gas_per_tx, bin_size)\n",
    "       \n",
    "    return gas_dist"
   ]
  },
  {
   "cell_type": "code",
   "execution_count": 124,
   "id": "3ab2466d-9437-4a1b-b128-272fe8bd397d",
   "metadata": {
    "tags": []
   },
   "outputs": [
    {
     "name": "stdout",
     "output_type": "stream",
     "text": [
      "CPU times: user 3min 50s, sys: 16.1 s, total: 4min 6s\n",
      "Wall time: 44.8 s\n"
     ]
    },
    {
     "data": {
      "text/html": [
       "<div>\n",
       "<style scoped>\n",
       "    .dataframe tbody tr th:only-of-type {\n",
       "        vertical-align: middle;\n",
       "    }\n",
       "\n",
       "    .dataframe tbody tr th {\n",
       "        vertical-align: top;\n",
       "    }\n",
       "\n",
       "    .dataframe thead th {\n",
       "        text-align: right;\n",
       "    }\n",
       "</style>\n",
       "<table border=\"1\" class=\"dataframe\">\n",
       "  <thead>\n",
       "    <tr style=\"text-align: right;\">\n",
       "      <th></th>\n",
       "      <th>lower_gas_pert</th>\n",
       "      <th>upper_gas_pert</th>\n",
       "      <th>count_blocks</th>\n",
       "    </tr>\n",
       "  </thead>\n",
       "  <tbody>\n",
       "    <tr>\n",
       "      <th>0</th>\n",
       "      <td>100.0</td>\n",
       "      <td>100.0</td>\n",
       "      <td>352007404</td>\n",
       "    </tr>\n",
       "    <tr>\n",
       "      <th>1</th>\n",
       "      <td>90.0</td>\n",
       "      <td>100.0</td>\n",
       "      <td>105039099</td>\n",
       "    </tr>\n",
       "    <tr>\n",
       "      <th>2</th>\n",
       "      <td>80.0</td>\n",
       "      <td>90.0</td>\n",
       "      <td>95240751</td>\n",
       "    </tr>\n",
       "    <tr>\n",
       "      <th>3</th>\n",
       "      <td>70.0</td>\n",
       "      <td>80.0</td>\n",
       "      <td>134612803</td>\n",
       "    </tr>\n",
       "    <tr>\n",
       "      <th>4</th>\n",
       "      <td>60.0</td>\n",
       "      <td>70.0</td>\n",
       "      <td>160980540</td>\n",
       "    </tr>\n",
       "    <tr>\n",
       "      <th>5</th>\n",
       "      <td>50.0</td>\n",
       "      <td>60.0</td>\n",
       "      <td>80346600</td>\n",
       "    </tr>\n",
       "    <tr>\n",
       "      <th>6</th>\n",
       "      <td>40.0</td>\n",
       "      <td>50.0</td>\n",
       "      <td>52728038</td>\n",
       "    </tr>\n",
       "    <tr>\n",
       "      <th>7</th>\n",
       "      <td>30.0</td>\n",
       "      <td>40.0</td>\n",
       "      <td>41644642</td>\n",
       "    </tr>\n",
       "    <tr>\n",
       "      <th>8</th>\n",
       "      <td>20.0</td>\n",
       "      <td>30.0</td>\n",
       "      <td>61694193</td>\n",
       "    </tr>\n",
       "    <tr>\n",
       "      <th>9</th>\n",
       "      <td>10.0</td>\n",
       "      <td>20.0</td>\n",
       "      <td>70880600</td>\n",
       "    </tr>\n",
       "    <tr>\n",
       "      <th>10</th>\n",
       "      <td>0.0</td>\n",
       "      <td>10.0</td>\n",
       "      <td>33546449</td>\n",
       "    </tr>\n",
       "  </tbody>\n",
       "</table>\n",
       "</div>"
      ],
      "text/plain": [
       "    lower_gas_pert  upper_gas_pert  count_blocks\n",
       "0            100.0           100.0     352007404\n",
       "1             90.0           100.0     105039099\n",
       "2             80.0            90.0      95240751\n",
       "3             70.0            80.0     134612803\n",
       "4             60.0            70.0     160980540\n",
       "5             50.0            60.0      80346600\n",
       "6             40.0            50.0      52728038\n",
       "7             30.0            40.0      41644642\n",
       "8             20.0            30.0      61694193\n",
       "9             10.0            20.0      70880600\n",
       "10             0.0            10.0      33546449"
      ]
     },
     "execution_count": 124,
     "metadata": {},
     "output_type": "execute_result"
    }
   ],
   "source": [
    "%%time\n",
    "\n",
    "get_gas_dist_per_tx(\"2022-01-01\", \"2025-01-01\", 10, y3).df()"
   ]
  },
  {
   "cell_type": "markdown",
   "id": "a13fec64-f418-4714-aaf1-4c31e07a6808",
   "metadata": {},
   "source": [
    "#### Get gas price distribution per tx"
   ]
  },
  {
   "cell_type": "code",
   "execution_count": 129,
   "id": "3a81c2a4-9826-45eb-89a0-da7f0275f537",
   "metadata": {
    "tags": []
   },
   "outputs": [],
   "source": [
    "def get_gas_price_dist_per_tx(t_start, t_end, bin_size, folder):\n",
    "    \n",
    "    blocks = get_blocks_filtered(t_start, t_end, get_blocks_folder(folder))\n",
    "    min_block, max_block = get_blocks_min_max(blocks)\n",
    "\n",
    "    tx_cols = ingest_pq(\"block_number\",\n",
    "                        \"success\",\n",
    "                        \"gas_price\",                        \n",
    "                        folder = get_tx_folder(folder)\n",
    "                       )\n",
    "    \n",
    "    gas_price_per_tx = duckdb.sql(f\"\"\"    \n",
    "                             SELECT \n",
    "                               tx.block_number, \n",
    "                               -- Wei to Gwei\n",
    "                               tx.gas_price / 1e9 AS tx_gas_price,                              \n",
    "                                 \n",
    "                             FROM (\n",
    "                               SELECT *\n",
    "                               FROM tx_cols\n",
    "                               WHERE success IS TRUE\n",
    "                               AND block_number >= {min_block}\n",
    "                               AND block_number <= {max_block}\n",
    "                             ) tx \n",
    "                             \"\"\")\n",
    "    \n",
    "    gas_price_dist = duckdb.sql(f\"\"\"\n",
    "                          WITH non_null_tx_gas_price AS (\n",
    "                            SELECT tx_gas_price\n",
    "                            FROM gas_price_per_tx\n",
    "                            WHERE tx_gas_price IS NOT NULL\n",
    "                          ),\n",
    "\n",
    "                          binned AS (\n",
    "                              SELECT \n",
    "                                  FLOOR(tx_gas_price / {bin_size}) * {bin_size} AS lower_tx_gas_price\n",
    "                              FROM non_null_tx_gas_price\n",
    "                          ),\n",
    "\n",
    "                          counted AS (\n",
    "                              SELECT \n",
    "                                  lower_tx_gas_price,\n",
    "                                  COUNT(*) AS count_blocks\n",
    "                              FROM binned\n",
    "                              GROUP BY lower_tx_gas_price\n",
    "                          ),\n",
    "\n",
    "                          finalized AS (\n",
    "                              SELECT \n",
    "                                  lower_tx_gas_price,\n",
    "                                  CASE \n",
    "                                      WHEN lower_tx_gas_price < 5000000 \n",
    "                                          THEN lower_tx_gas_price + {bin_size}\n",
    "                                      ELSE lower_tx_gas_price\n",
    "                                  END AS upper_tx_gas_price,\n",
    "                                  count_blocks\n",
    "                              FROM counted\n",
    "                          )\n",
    "\n",
    "                          SELECT *\n",
    "                          FROM finalized\n",
    "                          ORDER BY lower_tx_gas_price DESC;\n",
    "                          \"\"\")\n",
    "    \n",
    "    return gas_price_dist    "
   ]
  },
  {
   "cell_type": "code",
   "execution_count": 130,
   "id": "c7c19109-084d-4a2b-8464-3587103a2f20",
   "metadata": {
    "tags": []
   },
   "outputs": [
    {
     "name": "stdout",
     "output_type": "stream",
     "text": [
      "CPU times: user 31 s, sys: 939 ms, total: 31.9 s\n",
      "Wall time: 2.44 s\n"
     ]
    },
    {
     "data": {
      "text/html": [
       "<div>\n",
       "<style scoped>\n",
       "    .dataframe tbody tr th:only-of-type {\n",
       "        vertical-align: middle;\n",
       "    }\n",
       "\n",
       "    .dataframe tbody tr th {\n",
       "        vertical-align: top;\n",
       "    }\n",
       "\n",
       "    .dataframe thead th {\n",
       "        text-align: right;\n",
       "    }\n",
       "</style>\n",
       "<table border=\"1\" class=\"dataframe\">\n",
       "  <thead>\n",
       "    <tr style=\"text-align: right;\">\n",
       "      <th></th>\n",
       "      <th>lower_tx_gas_price</th>\n",
       "      <th>upper_tx_gas_price</th>\n",
       "      <th>count_blocks</th>\n",
       "    </tr>\n",
       "  </thead>\n",
       "  <tbody>\n",
       "    <tr>\n",
       "      <th>0</th>\n",
       "      <td>13731200.0</td>\n",
       "      <td>13731200.0</td>\n",
       "      <td>1</td>\n",
       "    </tr>\n",
       "    <tr>\n",
       "      <th>1</th>\n",
       "      <td>1648800.0</td>\n",
       "      <td>1648900.0</td>\n",
       "      <td>1</td>\n",
       "    </tr>\n",
       "    <tr>\n",
       "      <th>2</th>\n",
       "      <td>1092100.0</td>\n",
       "      <td>1092200.0</td>\n",
       "      <td>1</td>\n",
       "    </tr>\n",
       "    <tr>\n",
       "      <th>3</th>\n",
       "      <td>842700.0</td>\n",
       "      <td>842800.0</td>\n",
       "      <td>1</td>\n",
       "    </tr>\n",
       "    <tr>\n",
       "      <th>4</th>\n",
       "      <td>820800.0</td>\n",
       "      <td>820900.0</td>\n",
       "      <td>1</td>\n",
       "    </tr>\n",
       "    <tr>\n",
       "      <th>...</th>\n",
       "      <td>...</td>\n",
       "      <td>...</td>\n",
       "      <td>...</td>\n",
       "    </tr>\n",
       "    <tr>\n",
       "      <th>573</th>\n",
       "      <td>400.0</td>\n",
       "      <td>500.0</td>\n",
       "      <td>84448</td>\n",
       "    </tr>\n",
       "    <tr>\n",
       "      <th>574</th>\n",
       "      <td>300.0</td>\n",
       "      <td>400.0</td>\n",
       "      <td>155132</td>\n",
       "    </tr>\n",
       "    <tr>\n",
       "      <th>575</th>\n",
       "      <td>200.0</td>\n",
       "      <td>300.0</td>\n",
       "      <td>389682</td>\n",
       "    </tr>\n",
       "    <tr>\n",
       "      <th>576</th>\n",
       "      <td>100.0</td>\n",
       "      <td>200.0</td>\n",
       "      <td>3124789</td>\n",
       "    </tr>\n",
       "    <tr>\n",
       "      <th>577</th>\n",
       "      <td>0.0</td>\n",
       "      <td>100.0</td>\n",
       "      <td>417768730</td>\n",
       "    </tr>\n",
       "  </tbody>\n",
       "</table>\n",
       "<p>578 rows × 3 columns</p>\n",
       "</div>"
      ],
      "text/plain": [
       "     lower_tx_gas_price  upper_tx_gas_price  count_blocks\n",
       "0            13731200.0          13731200.0             1\n",
       "1             1648800.0           1648900.0             1\n",
       "2             1092100.0           1092200.0             1\n",
       "3              842700.0            842800.0             1\n",
       "4              820800.0            820900.0             1\n",
       "..                  ...                 ...           ...\n",
       "573               400.0               500.0         84448\n",
       "574               300.0               400.0        155132\n",
       "575               200.0               300.0        389682\n",
       "576               100.0               200.0       3124789\n",
       "577                 0.0               100.0     417768730\n",
       "\n",
       "[578 rows x 3 columns]"
      ]
     },
     "execution_count": 130,
     "metadata": {},
     "output_type": "execute_result"
    }
   ],
   "source": [
    "%%time\n",
    "\n",
    "get_gas_price_dist_per_tx(\"2024-01-01\", \"2025-01-01\", 100, y3).df()"
   ]
  },
  {
   "cell_type": "markdown",
   "id": "4de1d920-2067-4fa5-abf8-24753881edd1",
   "metadata": {
    "tags": []
   },
   "source": [
    "### Address level analytics"
   ]
  },
  {
   "cell_type": "markdown",
   "id": "01e27316-51e6-4aee-b5e8-474aed040888",
   "metadata": {},
   "source": [
    "#### Calculate balance"
   ]
  },
  {
   "cell_type": "code",
   "execution_count": 147,
   "id": "f58fc22b-6e26-424c-a8cf-a6fb0c1904a3",
   "metadata": {
    "tags": []
   },
   "outputs": [],
   "source": [
    "def get_balance(address, t_start, t_end, folder):\n",
    "    \n",
    "    blocks = get_blocks_filtered(t_start, t_end, get_blocks_folder(folder))\n",
    "    min_block, max_block = get_blocks_min_max(blocks)\n",
    "\n",
    "    tx_cols = ingest_pq(\"block_number\",\n",
    "                        \"success\",\n",
    "                        \"from_address\",\n",
    "                        \"to_address\",\n",
    "                        \"gas_used\",\n",
    "                        \"gas_price\",\n",
    "                        \"value_f64\",\n",
    "                        folder = get_tx_folder(folder)\n",
    "                       )\n",
    "    \n",
    "    match_tx = duckdb.sql(f\"\"\"    \n",
    "                           SELECT \n",
    "                             (tx.value_f64 / 1e18) AS tx_eth,\n",
    "                             tx.from_address,\n",
    "                             tx.to_address,\n",
    "                             tx.gas_used,\n",
    "                             tx.gas_price\n",
    "                               \n",
    "                           FROM (\n",
    "                             SELECT *\n",
    "                             FROM tx_cols\n",
    "                             WHERE success IS TRUE\n",
    "                             AND block_number >= {min_block}\n",
    "                             AND block_number <= {max_block}\n",
    "                             AND to_address = FROM_HEX(SUBSTR('{address}', 3))\n",
    "                             OR from_address = FROM_HEX(SUBSTR('{address}', 3))\n",
    "                           ) tx \n",
    "                           \"\"\")\n",
    "    \n",
    "    sent_tx = duckdb.sql(f\"\"\"    \n",
    "                         SELECT \n",
    "                           SUM(tx.tx_eth) AS total_tx_eth_sent,\n",
    "                           SUM((tx.gas_used * tx.gas_price) / 1e18) AS total_fee_paid\n",
    "                           \n",
    "                         FROM (\n",
    "                           SELECT *\n",
    "                           FROM match_tx\n",
    "                           WHERE from_address = FROM_HEX(SUBSTR('{address}', 3))\n",
    "                         ) tx\n",
    "                         \"\"\").fetchone()\n",
    "    \n",
    "    received_tx = duckdb.sql(f\"\"\"    \n",
    "                             SELECT \n",
    "                               SUM(tx.tx_eth) AS total_tx_eth_received\n",
    "                                 \n",
    "                             FROM (\n",
    "                               SELECT *\n",
    "                               FROM match_tx\n",
    "                               WHERE to_address = FROM_HEX(SUBSTR('{address}', 3))\n",
    "                             ) tx\n",
    "                             \"\"\").fetchone()\n",
    "       \n",
    "    return received_tx[0] - (sent_tx[0] + sent_tx[1])"
   ]
  },
  {
   "cell_type": "code",
   "execution_count": 24,
   "id": "59aea2ba-e5cc-4143-96bf-c1725c7a5c20",
   "metadata": {
    "tags": []
   },
   "outputs": [],
   "source": [
    "# %%time\n",
    "\n",
    "# get_balance(\"0x125ee0DC74121d4d61Dcbb65b7d10d233658bc38\", \n",
    "#             \"2022-01-01\",\n",
    "#             \"2025-01-01\",\n",
    "#             y3)\n",
    "\n",
    "# CPU times: user 2min 42s, sys: 3min 7s, total: 5min 49s\n",
    "# Wall time: 6min 12s\n",
    "\n",
    "# 0.44563283536997333"
   ]
  },
  {
   "cell_type": "code",
   "execution_count": 149,
   "id": "8da8887a-ed37-4c27-8b04-e694a09e3108",
   "metadata": {
    "tags": []
   },
   "outputs": [],
   "source": [
    "def get_balance_opt(address, t_start, t_end, folder):\n",
    "    \n",
    "    blocks = get_blocks_filtered(t_start, t_end, get_blocks_folder(folder))\n",
    "    min_block, max_block = get_blocks_min_max(blocks)\n",
    "\n",
    "    tx_cols = ingest_pq(\"block_number\",\n",
    "                        \"success\",\n",
    "                        \"from_address\",\n",
    "                        \"to_address\",\n",
    "                        \"gas_used\",\n",
    "                        \"gas_price\",\n",
    "                        \"value_f64\",\n",
    "                        folder = get_tx_folder(folder)\n",
    "                       )\n",
    "    \n",
    "    match_tx = duckdb.sql(f\"\"\"\n",
    "                            SELECT\n",
    "                              (value_f64 / 1e18) AS tx_eth,\n",
    "                              gas_used,\n",
    "                              gas_price,\n",
    "                              from_address = FROM_HEX(SUBSTR('{address}', 3)) AS is_sender,\n",
    "                              to_address = FROM_HEX(SUBSTR('{address}', 3)) AS is_receiver\n",
    "                            FROM tx_cols\n",
    "                            WHERE success IS TRUE\n",
    "                              AND block_number BETWEEN {min_block} AND {max_block}\n",
    "                              AND (\n",
    "                                to_address = FROM_HEX(SUBSTR('{address}', 3)) OR\n",
    "                                from_address = FROM_HEX(SUBSTR('{address}', 3))\n",
    "                              )\n",
    "                           \"\"\")\n",
    "\n",
    "    \n",
    "    summary = duckdb.sql(\"\"\"\n",
    "                            SELECT\n",
    "                              SUM(CASE WHEN is_sender THEN tx_eth ELSE 0 END) AS total_sent,\n",
    "                              SUM(CASE WHEN is_sender THEN (gas_used * gas_price) / 1e18 ELSE 0 END) AS total_fee,\n",
    "                              SUM(CASE WHEN is_receiver THEN tx_eth ELSE 0 END) AS total_received\n",
    "                            FROM match_tx\n",
    "                        \"\"\").fetchone()\n",
    "    \n",
    "    balance = summary[2] - (summary[0] + summary[1])\n",
    "\n",
    "       \n",
    "    return balance"
   ]
  },
  {
   "cell_type": "code",
   "execution_count": 150,
   "id": "0a1cebdf-9a19-4ace-8487-9de633fa8c0e",
   "metadata": {
    "tags": []
   },
   "outputs": [
    {
     "name": "stdout",
     "output_type": "stream",
     "text": [
      "CPU times: user 2min 30s, sys: 1min 31s, total: 4min 1s\n",
      "Wall time: 2min 57s\n"
     ]
    },
    {
     "data": {
      "text/plain": [
       "0.44563283536997333"
      ]
     },
     "execution_count": 150,
     "metadata": {},
     "output_type": "execute_result"
    }
   ],
   "source": [
    "%%time\n",
    "\n",
    "get_balance_opt(\"0x125ee0DC74121d4d61Dcbb65b7d10d233658bc38\", \n",
    "            \"2022-01-01\",\n",
    "            \"2025-01-01\",\n",
    "            y3)"
   ]
  },
  {
   "cell_type": "markdown",
   "id": "29811ee8-0f33-4131-bb0a-c0fd7b97e531",
   "metadata": {},
   "source": [
    "#### Get unique addresses per year"
   ]
  },
  {
   "cell_type": "code",
   "execution_count": 6,
   "id": "64d06046-9ed9-4c78-9dd2-8477521941f3",
   "metadata": {
    "tags": []
   },
   "outputs": [],
   "source": [
    "def get_unique_add_count_per_year(t_start, t_end, folder):\n",
    "    \n",
    "    blocks = get_blocks_filtered(t_start, t_end, get_blocks_folder(folder))\n",
    "    min_block, max_block = get_blocks_min_max(blocks)\n",
    "\n",
    "    tx_cols = ingest_pq(\"block_number\",\n",
    "                        \"to_address\",\n",
    "                        \"from_address\",\n",
    "                        \"success\",\n",
    "                        folder = get_tx_folder(folder)\n",
    "                       )\n",
    "    \n",
    "    count_per_year = duckdb.sql(f\"\"\"\n",
    "                                WITH base AS (\n",
    "                                    SELECT \n",
    "                                      EXTRACT(year FROM b.timestamp) AS year, \n",
    "                                      tx.from_address AS address\n",
    "                                    FROM tx_cols tx\n",
    "                                    INNER JOIN blocks b \n",
    "                                      ON tx.block_number = b.block_number\n",
    "                                    WHERE tx.success IS TRUE\n",
    "                                      AND tx.block_number BETWEEN {min_block} AND {max_block}\n",
    "\n",
    "                                    UNION ALL\n",
    "\n",
    "                                    SELECT \n",
    "                                      EXTRACT(year FROM b.timestamp) AS year, \n",
    "                                      tx.to_address AS address\n",
    "                                    FROM tx_cols tx\n",
    "                                    INNER JOIN blocks b\n",
    "                                      ON tx.block_number = b.block_number\n",
    "                                    WHERE tx.success IS TRUE\n",
    "                                      AND tx.block_number BETWEEN {min_block} AND {max_block}\n",
    "                                ),\n",
    "\n",
    "                                unique_addresses_per_year AS (\n",
    "                                    SELECT DISTINCT year, address\n",
    "                                    FROM base\n",
    "                                )\n",
    "\n",
    "                                SELECT \n",
    "                                    year,\n",
    "                                    COUNT(*) AS total_unique_addresses\n",
    "                                FROM unique_addresses_per_year\n",
    "                                GROUP BY year\n",
    "                                ORDER BY year\n",
    "                                \"\"\")      \n",
    "       \n",
    "    return count_per_year"
   ]
  },
  {
   "cell_type": "code",
   "execution_count": 7,
   "id": "783db7af-9f50-42c2-beb6-8540b838fa0f",
   "metadata": {
    "tags": []
   },
   "outputs": [
    {
     "name": "stdout",
     "output_type": "stream",
     "text": [
      "CPU times: user 11min 12s, sys: 2min 32s, total: 13min 45s\n",
      "Wall time: 2min 40s\n"
     ]
    },
    {
     "data": {
      "text/html": [
       "<div>\n",
       "<style scoped>\n",
       "    .dataframe tbody tr th:only-of-type {\n",
       "        vertical-align: middle;\n",
       "    }\n",
       "\n",
       "    .dataframe tbody tr th {\n",
       "        vertical-align: top;\n",
       "    }\n",
       "\n",
       "    .dataframe thead th {\n",
       "        text-align: right;\n",
       "    }\n",
       "</style>\n",
       "<table border=\"1\" class=\"dataframe\">\n",
       "  <thead>\n",
       "    <tr style=\"text-align: right;\">\n",
       "      <th></th>\n",
       "      <th>year</th>\n",
       "      <th>total_unique_addresses</th>\n",
       "    </tr>\n",
       "  </thead>\n",
       "  <tbody>\n",
       "    <tr>\n",
       "      <th>0</th>\n",
       "      <td>2024</td>\n",
       "      <td>56286375</td>\n",
       "    </tr>\n",
       "    <tr>\n",
       "      <th>1</th>\n",
       "      <td>2025</td>\n",
       "      <td>15513105</td>\n",
       "    </tr>\n",
       "  </tbody>\n",
       "</table>\n",
       "</div>"
      ],
      "text/plain": [
       "   year  total_unique_addresses\n",
       "0  2024                56286375\n",
       "1  2025                15513105"
      ]
     },
     "execution_count": 7,
     "metadata": {},
     "output_type": "execute_result"
    }
   ],
   "source": [
    "%%time\n",
    "\n",
    "get_unique_add_count_per_year(\"2024-01-01\", \"2025-12-31\", y3).df()"
   ]
  },
  {
   "cell_type": "markdown",
   "id": "f44153d5-3d41-4372-8cde-05c433acb31e",
   "metadata": {
    "tags": []
   },
   "source": [
    "#### Get new addresses per year"
   ]
  },
  {
   "cell_type": "code",
   "execution_count": 30,
   "id": "7d0ede5e-feb6-4b31-b6cc-74572d854d9f",
   "metadata": {
    "tags": []
   },
   "outputs": [],
   "source": [
    "def get_new_add_per_year_1(t_start, t_end, folder):\n",
    "    \n",
    "    blocks = get_blocks_filtered(t_start, t_end, get_blocks_folder(folder))\n",
    "    min_block, max_block = get_blocks_min_max(blocks)\n",
    "\n",
    "    tx_cols = ingest_pq(\"block_number\",\n",
    "                        \"to_address\",\n",
    "                        \"from_address\",\n",
    "                        \"success\",\n",
    "                        folder = get_tx_folder(folder)\n",
    "                       )\n",
    "    \n",
    "    new_per_year = duckdb.sql(f\"\"\"\n",
    "                               WITH base AS (\n",
    "                                   SELECT DISTINCT\n",
    "                                     EXTRACT(year FROM b.timestamp) AS year, \n",
    "                                     tx.from_address AS address\n",
    "                                   FROM tx_cols tx\n",
    "                                   INNER JOIN blocks b \n",
    "                                     ON tx.block_number = b.block_number\n",
    "                                   WHERE tx.success IS TRUE\n",
    "                                     AND tx.block_number BETWEEN {min_block} AND {max_block}\n",
    "                                     \n",
    "                                   UNION ALL\n",
    "                                   \n",
    "                                   SELECT DISTINCT\n",
    "                                     EXTRACT(year FROM b.timestamp) AS year, \n",
    "                                     tx.to_address AS address\n",
    "                                   FROM tx_cols tx\n",
    "                                   INNER JOIN blocks b \n",
    "                                     ON tx.block_number = b.block_number\n",
    "                                   WHERE tx.success IS TRUE\n",
    "                                     AND tx.block_number BETWEEN {min_block} AND {max_block}\n",
    "                               ),\n",
    "\n",
    "                               unique_addresses_per_year AS (\n",
    "                                    SELECT DISTINCT year, address\n",
    "                                    FROM base\n",
    "                               ),\n",
    "\n",
    "                               new_addresses AS (\n",
    "                                   SELECT \n",
    "                                       a1.year,\n",
    "                                       COUNT(*) AS new_unique_addresses\n",
    "                                   FROM unique_addresses_per_year a1\n",
    "                                   LEFT JOIN unique_addresses_per_year a2\n",
    "                                     ON a1.address = a2.address \n",
    "                                     AND a2.year < a1.year\n",
    "                                   WHERE a2.address IS NULL\n",
    "                                   GROUP BY a1.year\n",
    "                               )\n",
    "\n",
    "                               SELECT \n",
    "                                   a.year,\n",
    "                                   a.new_unique_addresses,\n",
    "                               FROM new_addresses a\n",
    "                               ORDER BY a.year;\n",
    "                               \"\"\")\n",
    "       \n",
    "    return new_per_year"
   ]
  },
  {
   "cell_type": "code",
   "execution_count": 31,
   "id": "772ab9b4-f97e-44af-8d8b-cf2d6b482733",
   "metadata": {
    "tags": []
   },
   "outputs": [
    {
     "name": "stdout",
     "output_type": "stream",
     "text": [
      "CPU times: user 19min 59s, sys: 4min 58s, total: 24min 57s\n",
      "Wall time: 6min 35s\n"
     ]
    },
    {
     "data": {
      "text/html": [
       "<div>\n",
       "<style scoped>\n",
       "    .dataframe tbody tr th:only-of-type {\n",
       "        vertical-align: middle;\n",
       "    }\n",
       "\n",
       "    .dataframe tbody tr th {\n",
       "        vertical-align: top;\n",
       "    }\n",
       "\n",
       "    .dataframe thead th {\n",
       "        text-align: right;\n",
       "    }\n",
       "</style>\n",
       "<table border=\"1\" class=\"dataframe\">\n",
       "  <thead>\n",
       "    <tr style=\"text-align: right;\">\n",
       "      <th></th>\n",
       "      <th>year</th>\n",
       "      <th>new_unique_addresses</th>\n",
       "    </tr>\n",
       "  </thead>\n",
       "  <tbody>\n",
       "    <tr>\n",
       "      <th>0</th>\n",
       "      <td>2023</td>\n",
       "      <td>41780046</td>\n",
       "    </tr>\n",
       "    <tr>\n",
       "      <th>1</th>\n",
       "      <td>2024</td>\n",
       "      <td>44318145</td>\n",
       "    </tr>\n",
       "  </tbody>\n",
       "</table>\n",
       "</div>"
      ],
      "text/plain": [
       "   year  new_unique_addresses\n",
       "0  2023              41780046\n",
       "1  2024              44318145"
      ]
     },
     "execution_count": 31,
     "metadata": {},
     "output_type": "execute_result"
    }
   ],
   "source": [
    "%%time\n",
    "\n",
    "get_new_add_per_year_1(\"2023-01-01\", \"2024-12-31\", y3).df()"
   ]
  },
  {
   "cell_type": "code",
   "execution_count": 34,
   "id": "1a9772f4-a9d4-4cc9-906a-2ac24a7b65df",
   "metadata": {
    "tags": []
   },
   "outputs": [],
   "source": [
    "def get_new_add_per_year_2(t_start, t_end, folder):\n",
    "    \n",
    "    blocks = get_blocks_filtered(t_start, t_end, get_blocks_folder(folder))\n",
    "    min_block, max_block = get_blocks_min_max(blocks)\n",
    "\n",
    "    tx_cols = ingest_pq(\"block_number\",\n",
    "                        \"to_address\",\n",
    "                        \"from_address\",\n",
    "                        \"success\",\n",
    "                        folder = get_tx_folder(folder)\n",
    "                       )\n",
    "    \n",
    "    new_per_year = duckdb.sql(f\"\"\"\n",
    "                               WITH base AS (\n",
    "                               SELECT \n",
    "                                 EXTRACT(year FROM b.timestamp) AS year, \n",
    "                                 tx.from_address AS address\n",
    "                               FROM tx_cols tx\n",
    "                               INNER JOIN blocks b \n",
    "                                 ON tx.block_number = b.block_number\n",
    "                               WHERE tx.success IS TRUE\n",
    "                                 AND tx.block_number BETWEEN {min_block} AND {max_block}\n",
    "                                 \n",
    "                               UNION ALL\n",
    "                               \n",
    "                               SELECT \n",
    "                                 EXTRACT(year FROM b.timestamp) AS year, \n",
    "                                 tx.to_address AS address\n",
    "                               FROM tx_cols tx\n",
    "                               INNER JOIN blocks b \n",
    "                               ON tx.block_number = b.block_number\n",
    "                               WHERE tx.success IS TRUE\n",
    "                                 AND tx.block_number BETWEEN {min_block} AND {max_block}\n",
    "                               ),\n",
    "\n",
    "                               earliest_year_per_address AS (\n",
    "                                 SELECT address, MIN(year) AS first_seen_year\n",
    "                                 FROM (\n",
    "                                   SELECT DISTINCT address, year\n",
    "                                   FROM base\n",
    "                                 )\n",
    "                                 GROUP BY address\n",
    "                                ),                              \n",
    "\n",
    "                              new_counts AS (\n",
    "                                SELECT \n",
    "                                  first_seen_year AS year, \n",
    "                                  COUNT(*) AS new_unique_addresses\n",
    "                                FROM earliest_year_per_address\n",
    "                                GROUP BY first_seen_year\n",
    "                              )\n",
    "\n",
    "                              SELECT \n",
    "                                a.year,\n",
    "                                a.new_unique_addresses                                \n",
    "                              FROM new_counts a\n",
    "                              ORDER BY a.year;\n",
    "                              \"\"\")\n",
    "       \n",
    "    return new_per_year"
   ]
  },
  {
   "cell_type": "code",
   "execution_count": 36,
   "id": "a723eb97-1efa-46ca-b49c-0bf45748d84c",
   "metadata": {
    "tags": []
   },
   "outputs": [],
   "source": [
    "# %%time\n",
    "\n",
    "# get_new_add_per_year_2(\"2023-01-01\", \"2024-12-31\", y3).df()"
   ]
  },
  {
   "cell_type": "markdown",
   "id": "bbe7f122-03f5-436c-8b84-fd48ec8487ce",
   "metadata": {},
   "source": [
    "#### Get top address activity"
   ]
  },
  {
   "cell_type": "code",
   "execution_count": 43,
   "id": "e5ca62a9-32f8-4a53-a587-83dc49f14c1d",
   "metadata": {
    "tags": []
   },
   "outputs": [],
   "source": [
    "def get_top_add_act(t_start, t_end, folder):\n",
    "    \n",
    "    blocks = get_blocks_filtered(t_start, t_end, get_blocks_folder(folder))\n",
    "    min_block, max_block = get_blocks_min_max(blocks)\n",
    "\n",
    "    tx_cols = ingest_pq(\"block_number\",\n",
    "                        \"to_address\",\n",
    "                        \"from_address\",\n",
    "                        \"success\",\n",
    "                        folder = get_tx_folder(folder)\n",
    "                       )\n",
    "    \n",
    "    top_add_count = duckdb.sql(f\"\"\"\n",
    "                               WITH base AS (\n",
    "                               SELECT \n",
    "                                 tx.from_address AS address\n",
    "                               FROM tx_cols tx\n",
    "                               WHERE tx.success IS TRUE\n",
    "                                 AND tx.block_number BETWEEN {min_block} AND {max_block}\n",
    "                                 \n",
    "                               UNION ALL\n",
    "                               \n",
    "                               SELECT \n",
    "                                 tx.to_address AS address\n",
    "                               FROM tx_cols tx\n",
    "                               WHERE tx.success IS TRUE\n",
    "                                 AND tx.block_number BETWEEN {min_block} AND {max_block}\n",
    "                               )\n",
    "\n",
    "                              SELECT \n",
    "                                '0x' || TO_HEX(address) AS address_hex,\n",
    "                                COUNT(*) AS appearance_count\n",
    "                              FROM base\n",
    "                              GROUP BY address_hex\n",
    "                              ORDER BY appearance_count DESC\n",
    "                              LIMIT 10;\n",
    "                              \"\"\")\n",
    "       \n",
    "    return top_add_count"
   ]
  },
  {
   "cell_type": "code",
   "execution_count": 45,
   "id": "6ff12302-4415-4609-8079-dd3cd5bec62a",
   "metadata": {
    "tags": []
   },
   "outputs": [
    {
     "name": "stdout",
     "output_type": "stream",
     "text": [
      "CPU times: user 4min 54s, sys: 53.9 s, total: 5min 48s\n",
      "Wall time: 41.3 s\n"
     ]
    },
    {
     "data": {
      "text/html": [
       "<div>\n",
       "<style scoped>\n",
       "    .dataframe tbody tr th:only-of-type {\n",
       "        vertical-align: middle;\n",
       "    }\n",
       "\n",
       "    .dataframe tbody tr th {\n",
       "        vertical-align: top;\n",
       "    }\n",
       "\n",
       "    .dataframe thead th {\n",
       "        text-align: right;\n",
       "    }\n",
       "</style>\n",
       "<table border=\"1\" class=\"dataframe\">\n",
       "  <thead>\n",
       "    <tr style=\"text-align: right;\">\n",
       "      <th></th>\n",
       "      <th>address_hex</th>\n",
       "      <th>appearance_count</th>\n",
       "    </tr>\n",
       "  </thead>\n",
       "  <tbody>\n",
       "    <tr>\n",
       "      <th>0</th>\n",
       "      <td>0xDAC17F958D2EE523A2206206994597C13D831EC7</td>\n",
       "      <td>39350759</td>\n",
       "    </tr>\n",
       "    <tr>\n",
       "      <th>1</th>\n",
       "      <td>0x3FC91A3AFD70395CD496C647D5A6CC9D4B2B7FAD</td>\n",
       "      <td>24007267</td>\n",
       "    </tr>\n",
       "    <tr>\n",
       "      <th>2</th>\n",
       "      <td>0xA0B86991C6218B36C1D19D4A2E9EB0CE3606EB48</td>\n",
       "      <td>12481257</td>\n",
       "    </tr>\n",
       "    <tr>\n",
       "      <th>3</th>\n",
       "      <td>0x7A250D5630B4CF539739DF2C5DACB4C659F2488D</td>\n",
       "      <td>5040506</td>\n",
       "    </tr>\n",
       "    <tr>\n",
       "      <th>4</th>\n",
       "      <td>0x80A64C6D7F12C47B7C66C5B4E20E72BC1FCD5D9E</td>\n",
       "      <td>4327661</td>\n",
       "    </tr>\n",
       "    <tr>\n",
       "      <th>5</th>\n",
       "      <td>0x3328F7F4A1D1C57C35DF56BBF0C9DCAFCA309C49</td>\n",
       "      <td>4248015</td>\n",
       "    </tr>\n",
       "    <tr>\n",
       "      <th>6</th>\n",
       "      <td>0xF89D7B9C864F589BBF53A82105107622B35EAA40</td>\n",
       "      <td>4183785</td>\n",
       "    </tr>\n",
       "    <tr>\n",
       "      <th>7</th>\n",
       "      <td>0x28C6C06298D514DB089934071355E5743BF21D60</td>\n",
       "      <td>3868752</td>\n",
       "    </tr>\n",
       "    <tr>\n",
       "      <th>8</th>\n",
       "      <td>0x974CAA59E49682CDA0AD2BBE82983419A2ECC400</td>\n",
       "      <td>3455697</td>\n",
       "    </tr>\n",
       "    <tr>\n",
       "      <th>9</th>\n",
       "      <td>0x1111111254EEB25477B68FB85ED929F73A960582</td>\n",
       "      <td>3436931</td>\n",
       "    </tr>\n",
       "  </tbody>\n",
       "</table>\n",
       "</div>"
      ],
      "text/plain": [
       "                                  address_hex  appearance_count\n",
       "0  0xDAC17F958D2EE523A2206206994597C13D831EC7          39350759\n",
       "1  0x3FC91A3AFD70395CD496C647D5A6CC9D4B2B7FAD          24007267\n",
       "2  0xA0B86991C6218B36C1D19D4A2E9EB0CE3606EB48          12481257\n",
       "3  0x7A250D5630B4CF539739DF2C5DACB4C659F2488D           5040506\n",
       "4  0x80A64C6D7F12C47B7C66C5B4E20E72BC1FCD5D9E           4327661\n",
       "5  0x3328F7F4A1D1C57C35DF56BBF0C9DCAFCA309C49           4248015\n",
       "6  0xF89D7B9C864F589BBF53A82105107622B35EAA40           4183785\n",
       "7  0x28C6C06298D514DB089934071355E5743BF21D60           3868752\n",
       "8  0x974CAA59E49682CDA0AD2BBE82983419A2ECC400           3455697\n",
       "9  0x1111111254EEB25477B68FB85ED929F73A960582           3436931"
      ]
     },
     "execution_count": 45,
     "metadata": {},
     "output_type": "execute_result"
    }
   ],
   "source": [
    "%%time\n",
    "\n",
    "get_top_add_act(\"2024-01-01\", \"2024-12-31\", y3).df()"
   ]
  },
  {
   "cell_type": "code",
   "execution_count": null,
   "id": "e8e700d6-94bc-49a1-9dc2-4a2333136983",
   "metadata": {},
   "outputs": [],
   "source": []
  }
 ],
 "metadata": {
  "kernelspec": {
   "display_name": "Python 3 (ipykernel)",
   "language": "python",
   "name": "python3"
  },
  "language_info": {
   "codemirror_mode": {
    "name": "ipython",
    "version": 3
   },
   "file_extension": ".py",
   "mimetype": "text/x-python",
   "name": "python",
   "nbconvert_exporter": "python",
   "pygments_lexer": "ipython3",
   "version": "3.10.12"
  }
 },
 "nbformat": 4,
 "nbformat_minor": 5
}
