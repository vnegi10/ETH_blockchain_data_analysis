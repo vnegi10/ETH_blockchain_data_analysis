{
 "cells": [
  {
   "cell_type": "code",
   "execution_count": 17,
   "id": "b48c2534-d9f5-4a0e-ae3f-911979cd3929",
   "metadata": {},
   "outputs": [
    {
     "name": "stdout",
     "output_type": "stream",
     "text": [
      "1.2.1\n"
     ]
    }
   ],
   "source": [
    "import duckdb\n",
    "print(duckdb.__version__)\n",
    "import os"
   ]
  },
  {
   "cell_type": "markdown",
   "id": "9dd07538-055e-49db-bec2-14baa52bbd1c",
   "metadata": {},
   "source": [
    "## Ingest data"
   ]
  },
  {
   "cell_type": "code",
   "execution_count": 18,
   "id": "05cc4de9-c1d7-4fcc-84b0-5973b9df1e2a",
   "metadata": {},
   "outputs": [],
   "source": [
    "yearly_folder = \"/home/vikas/Desktop/HuggingFace/Ethereum_blockchain_parquet\"\n",
    "blocks = os.path.join(yearly_folder, \"blocks\", \"*.parquet\")\n",
    "tx = os.path.join(yearly_folder, \"transactions\", \"*.parquet\")"
   ]
  },
  {
   "cell_type": "code",
   "execution_count": 9,
   "id": "91331c88-d7bc-4c7a-9997-752952f28dd6",
   "metadata": {},
   "outputs": [],
   "source": [
    "def ingest_pq(*cols, folder):\n",
    "\n",
    "    # Convert column names to a comma-separated string\n",
    "    col_str = \", \".join(cols) if cols else \"*\"\n",
    "\n",
    "    pq_input = duckdb.sql(f\"\"\"\n",
    "                           SELECT {col_str} \n",
    "                           FROM read_parquet('{folder}')\n",
    "                           \"\"\")\n",
    "\n",
    "    return pq_input"
   ]
  },
  {
   "cell_type": "markdown",
   "id": "c750423d-a0b9-42d5-afab-c92ee8517944",
   "metadata": {},
   "source": [
    "## Run query"
   ]
  },
  {
   "cell_type": "markdown",
   "id": "1ddb6042-64a8-45f6-98a4-560ae70dcefc",
   "metadata": {},
   "source": [
    "### Count"
   ]
  },
  {
   "cell_type": "code",
   "execution_count": 12,
   "id": "03b1730c-5401-4934-bcc3-55cf4f2f893f",
   "metadata": {},
   "outputs": [],
   "source": [
    "def get_num_rows(folder):\n",
    "\n",
    "    one_col = ingest_pq(\"block_number\", folder = folder)\n",
    "\n",
    "    num_rows = duckdb.sql(\"\"\"\n",
    "                          SELECT COUNT(*) FROM one_col\n",
    "                          \"\"\")\n",
    "\n",
    "    print(num_rows)\n",
    "\n",
    "    return None    "
   ]
  },
  {
   "cell_type": "code",
   "execution_count": 19,
   "id": "2f3cf085-ef30-4a25-ab35-d4fe362774a8",
   "metadata": {},
   "outputs": [
    {
     "name": "stdout",
     "output_type": "stream",
     "text": [
      "┌──────────────┐\n",
      "│ count_star() │\n",
      "│    int64     │\n",
      "├──────────────┤\n",
      "│       634440 │\n",
      "└──────────────┘\n",
      "\n",
      "CPU times: user 26.2 ms, sys: 2.4 ms, total: 28.6 ms\n",
      "Wall time: 14.2 ms\n"
     ]
    }
   ],
   "source": [
    "%%time\n",
    "\n",
    "get_num_rows(blocks)"
   ]
  },
  {
   "cell_type": "code",
   "execution_count": 22,
   "id": "cfdc20ce-8c68-4d11-80aa-62d9250b2749",
   "metadata": {},
   "outputs": [
    {
     "name": "stdout",
     "output_type": "stream",
     "text": [
      "┌──────────────┐\n",
      "│ count_star() │\n",
      "│    int64     │\n",
      "├──────────────┤\n",
      "│     93492934 │\n",
      "└──────────────┘\n",
      "\n",
      "CPU times: user 134 ms, sys: 11.8 ms, total: 146 ms\n",
      "Wall time: 50 ms\n"
     ]
    }
   ],
   "source": [
    "%%time\n",
    "\n",
    "get_num_rows(tx)"
   ]
  },
  {
   "cell_type": "markdown",
   "id": "6906388a-2857-4b37-9338-78174a0ebb05",
   "metadata": {},
   "source": [
    "### Get time range"
   ]
  },
  {
   "cell_type": "code",
   "execution_count": 23,
   "id": "c68affb0-c861-40d3-9d32-b8f11496ce56",
   "metadata": {},
   "outputs": [],
   "source": [
    "def get_time_range():\n",
    "\n",
    "    one_col = ingest_pq(\"timestamp\", folder = blocks)\n",
    "\n",
    "    min_max_time = duckdb.sql(\"\"\"\n",
    "                                SELECT \n",
    "                                MIN(TO_TIMESTAMP(timestamp)) AS min_time, \n",
    "                                MAX(TO_TIMESTAMP(timestamp)) AS max_time\n",
    "                                FROM one_col   \n",
    "                              \"\"\")\n",
    "\n",
    "    return min_max_time   "
   ]
  },
  {
   "cell_type": "code",
   "execution_count": 24,
   "id": "709e750d-30b2-48f4-a273-9a7c00def53d",
   "metadata": {},
   "outputs": [
    {
     "name": "stdout",
     "output_type": "stream",
     "text": [
      "CPU times: user 3.05 ms, sys: 0 ns, total: 3.05 ms\n",
      "Wall time: 1.89 ms\n"
     ]
    },
    {
     "data": {
      "text/plain": [
       "┌──────────────────────────┬──────────────────────────┐\n",
       "│         min_time         │         max_time         │\n",
       "│ timestamp with time zone │ timestamp with time zone │\n",
       "├──────────────────────────┼──────────────────────────┤\n",
       "│ 2016-11-17 01:40:08+01   │ 2025-03-25 22:17:35+01   │\n",
       "└──────────────────────────┴──────────────────────────┘"
      ]
     },
     "execution_count": 24,
     "metadata": {},
     "output_type": "execute_result"
    }
   ],
   "source": [
    "%%time\n",
    "\n",
    "get_time_range()"
   ]
  },
  {
   "cell_type": "markdown",
   "id": "2926e7de-5298-4841-8751-69ee23c4e4a5",
   "metadata": {},
   "source": [
    "### Filter blocks"
   ]
  },
  {
   "cell_type": "code",
   "execution_count": 33,
   "id": "d33354ae-6438-4353-b030-bef5cbb4f3c0",
   "metadata": {},
   "outputs": [],
   "source": [
    "def get_blocks_filtered(t_start, t_end):\n",
    "\n",
    "    dim_cols = ingest_pq(\"block_number\", \"timestamp\",\n",
    "                          folder = blocks)\n",
    "\n",
    "    filter_blocks = duckdb.sql(f\"\"\"\n",
    "                                SELECT \n",
    "                                TO_TIMESTAMP(timestamp) AS timestamp, \n",
    "                                block_number\n",
    "                                FROM dim_cols\n",
    "                                WHERE TO_TIMESTAMP(timestamp) \n",
    "                                BETWEEN '{t_start}' AND '{t_end}'\n",
    "                               \"\"\")\n",
    "\n",
    "    return filter_blocks    "
   ]
  },
  {
   "cell_type": "code",
   "execution_count": 32,
   "id": "43e00ec6-5728-4420-8630-31fd47057f80",
   "metadata": {},
   "outputs": [
    {
     "name": "stdout",
     "output_type": "stream",
     "text": [
      "CPU times: user 2.37 ms, sys: 417 µs, total: 2.78 ms\n",
      "Wall time: 1.93 ms\n"
     ]
    },
    {
     "data": {
      "text/plain": [
       "┌──────────────────────────┬──────────────┐\n",
       "│        timestamp         │ block_number │\n",
       "│ timestamp with time zone │    uint32    │\n",
       "├──────────────────────────┼──────────────┤\n",
       "│ 2022-01-01 00:04:01+01   │     13915917 │\n",
       "│ 2022-01-01 00:08:54+01   │     13915942 │\n",
       "│ 2022-01-01 00:14:28+01   │     13915967 │\n",
       "│ 2022-01-01 00:20:05+01   │     13915992 │\n",
       "│ 2022-01-01 00:24:23+01   │     13916017 │\n",
       "│ 2022-01-01 00:31:13+01   │     13916042 │\n",
       "│ 2022-01-01 00:39:10+01   │     13916067 │\n",
       "│ 2022-01-01 00:44:38+01   │     13916092 │\n",
       "│ 2022-01-01 00:49:37+01   │     13916117 │\n",
       "│ 2022-01-01 00:54:27+01   │     13916142 │\n",
       "│           ·              │         ·    │\n",
       "│           ·              │         ·    │\n",
       "│           ·              │         ·    │\n",
       "│ 2022-03-19 09:00:34+01   │     14415667 │\n",
       "│ 2022-03-19 09:07:18+01   │     14415692 │\n",
       "│ 2022-03-19 09:12:23+01   │     14415717 │\n",
       "│ 2022-03-19 09:16:53+01   │     14415742 │\n",
       "│ 2022-03-19 09:21:56+01   │     14415767 │\n",
       "│ 2022-03-19 09:29:44+01   │     14415792 │\n",
       "│ 2022-03-19 09:34:26+01   │     14415817 │\n",
       "│ 2022-03-19 09:39:18+01   │     14415842 │\n",
       "│ 2022-03-19 09:44:47+01   │     14415867 │\n",
       "│ 2022-03-19 09:49:35+01   │     14415892 │\n",
       "├──────────────────────────┴──────────────┤\n",
       "│      ? rows (>9999 rows, 20 shown)      │\n",
       "└─────────────────────────────────────────┘"
      ]
     },
     "execution_count": 32,
     "metadata": {},
     "output_type": "execute_result"
    }
   ],
   "source": [
    "%%time\n",
    "\n",
    "get_blocks_filtered(\"2022-01-01\", \"2024-12-31\")"
   ]
  },
  {
   "cell_type": "markdown",
   "id": "8971f947-c3ac-4110-931c-00a4472fdf87",
   "metadata": {},
   "source": [
    "### Block level analytics"
   ]
  },
  {
   "cell_type": "markdown",
   "id": "cb15462c-5c3d-4d42-baf8-498236dc6531",
   "metadata": {},
   "source": [
    "#### Tx count per block"
   ]
  },
  {
   "cell_type": "code",
   "execution_count": 56,
   "id": "90a97a5c-99ef-4d8b-8d1e-8a2e80651900",
   "metadata": {},
   "outputs": [],
   "source": [
    "def get_tx_count_per_block(t_start, t_end):\n",
    "    \n",
    "    blocks = get_blocks_filtered(t_start, t_end)\n",
    "\n",
    "    tx_cols = ingest_pq(\"block_number\",\n",
    "                        \"success\",\n",
    "                        folder = tx)\n",
    "    \n",
    "    tx_cols_success = duckdb.sql(\"\"\"\n",
    "                                 SELECT * FROM tx_cols\n",
    "                                 WHERE tx_cols.success = TRUE\n",
    "                                 \"\"\")\n",
    "\n",
    "    count_per_block = duckdb.sql(\"\"\"\n",
    "                                SELECT \n",
    "                                    tx_cols_success.block_number, \n",
    "                                    blocks.timestamp, \n",
    "                                    COUNT(*) AS count_tx\n",
    "                                FROM tx_cols_success\n",
    "                                INNER JOIN blocks \n",
    "                                    ON tx_cols_success.block_number = blocks.block_number\n",
    "                                GROUP BY \n",
    "                                    tx_cols_success.block_number, \n",
    "                                    blocks.timestamp\n",
    "                                ORDER BY count_tx DESC\n",
    "                                LIMIT 100\n",
    "                                \"\"\")        \n",
    "       \n",
    "    return count_per_block"
   ]
  },
  {
   "cell_type": "code",
   "execution_count": 58,
   "id": "7b707848-99da-476f-b41a-9837d138b4be",
   "metadata": {},
   "outputs": [
    {
     "name": "stdout",
     "output_type": "stream",
     "text": [
      "CPU times: user 6.88 ms, sys: 81 µs, total: 6.96 ms\n",
      "Wall time: 5.25 ms\n"
     ]
    },
    {
     "data": {
      "text/plain": [
       "┌──────────────┬──────────────────────────┬──────────┐\n",
       "│ block_number │        timestamp         │ count_tx │\n",
       "│    uint32    │ timestamp with time zone │  int64   │\n",
       "├──────────────┼──────────────────────────┼──────────┤\n",
       "│     13330992 │ 2021-10-01 05:19:25+02   │     1425 │\n",
       "│     13331492 │ 2021-10-01 07:13:20+02   │     1413 │\n",
       "│     15471742 │ 2022-09-04 14:50:39+02   │     1402 │\n",
       "│     15273992 │ 2022-08-04 07:25:20+02   │     1399 │\n",
       "│     13235517 │ 2021-09-16 09:49:44+02   │     1393 │\n",
       "│     14619167 │ 2022-04-20 04:04:41+02   │     1388 │\n",
       "│     13240667 │ 2021-09-17 04:49:36+02   │     1382 │\n",
       "│     13543492 │ 2021-11-03 11:59:34+01   │     1381 │\n",
       "│     13319492 │ 2021-09-29 10:03:32+02   │     1381 │\n",
       "│     13332792 │ 2021-10-01 12:09:00+02   │     1380 │\n",
       "│         ·    │           ·              │       ·  │\n",
       "│         ·    │           ·              │       ·  │\n",
       "│         ·    │           ·              │       ·  │\n",
       "│     14586692 │ 2022-04-15 02:13:14+02   │     1094 │\n",
       "│     13996492 │ 2022-01-13 10:59:25+01   │     1091 │\n",
       "│     13287242 │ 2021-09-24 09:51:15+02   │     1087 │\n",
       "│     15457742 │ 2022-09-02 09:01:35+02   │     1085 │\n",
       "│     13968867 │ 2022-01-09 04:21:00+01   │     1084 │\n",
       "│     13657742 │ 2021-11-21 11:53:26+01   │     1082 │\n",
       "│     20137892 │ 2024-06-21 07:05:47+02   │     1082 │\n",
       "│     13795742 │ 2021-12-13 09:32:27+01   │     1077 │\n",
       "│     15553367 │ 2022-09-17 14:41:35+02   │     1069 │\n",
       "│     17874017 │ 2023-08-09 03:17:35+02   │     1068 │\n",
       "├──────────────┴──────────────────────────┴──────────┤\n",
       "│ 100 rows (20 shown)                      3 columns │\n",
       "└────────────────────────────────────────────────────┘"
      ]
     },
     "execution_count": 58,
     "metadata": {},
     "output_type": "execute_result"
    }
   ],
   "source": [
    "%%time\n",
    "\n",
    "get_tx_count_per_block(\"2017-01-01\", \"2024-12-31\")"
   ]
  },
  {
   "cell_type": "markdown",
   "id": "9137047a-8808-4542-858e-f5e307daf48f",
   "metadata": {},
   "source": [
    "#### Get total ETH per block"
   ]
  },
  {
   "cell_type": "code",
   "execution_count": 63,
   "id": "59f7f31f-531a-4708-bbab-7d50b57f16bc",
   "metadata": {},
   "outputs": [],
   "source": [
    "def get_eth_per_block(t_start, t_end):\n",
    "    \n",
    "    blocks = get_blocks_filtered(t_start, t_end)\n",
    "\n",
    "    tx_cols = ingest_pq(\"block_number\",\n",
    "                        \"success\",\n",
    "                        \"value_f64\",\n",
    "                        folder = tx)\n",
    "    \n",
    "    tx_cols_success = duckdb.sql(\"\"\"\n",
    "                                 SELECT * FROM tx_cols\n",
    "                                 WHERE tx_cols.success = TRUE\n",
    "                                 \"\"\")\n",
    "\n",
    "    eth_per_block = duckdb.sql(\"\"\"\n",
    "                                SELECT \n",
    "                                tx_cols_success.block_number, \n",
    "                                blocks.timestamp, \n",
    "                                COUNT(*) AS count_tx,\n",
    "                                SUM(tx_cols_success.value_f64 / 1e18) AS total_tx_eth\n",
    "                                FROM tx_cols_success\n",
    "                                INNER JOIN blocks \n",
    "                                    ON tx_cols_success.block_number = blocks.block_number\n",
    "                                GROUP BY \n",
    "                                    tx_cols_success.block_number, \n",
    "                                    blocks.timestamp\n",
    "                                ORDER BY total_tx_eth DESC\n",
    "                                LIMIT 100\n",
    "                                \"\"\")    \n",
    "       \n",
    "    return eth_per_block"
   ]
  },
  {
   "cell_type": "code",
   "execution_count": 65,
   "id": "fba56e6c-cea1-499b-8f34-144098353685",
   "metadata": {},
   "outputs": [
    {
     "name": "stdout",
     "output_type": "stream",
     "text": [
      "CPU times: user 0 ns, sys: 10.9 ms, total: 10.9 ms\n",
      "Wall time: 18 ms\n"
     ]
    },
    {
     "data": {
      "text/plain": [
       "┌──────────────┬──────────────────────────┬──────────┬────────────────────┐\n",
       "│ block_number │        timestamp         │ count_tx │    total_tx_eth    │\n",
       "│    uint32    │ timestamp with time zone │  int64   │       double       │\n",
       "├──────────────┼──────────────────────────┼──────────┼────────────────────┤\n",
       "│      8118067 │ 2019-07-09 18:08:37+02   │      223 │ 1944140.3861762336 │\n",
       "│      6803842 │ 2018-12-01 03:13:35+01   │       98 │ 1538628.4441383088 │\n",
       "│     10328842 │ 2020-06-24 15:54:49+02   │      206 │  789744.8967305534 │\n",
       "│     15093817 │ 2022-07-07 08:30:47+02   │      353 │  598912.6046008696 │\n",
       "│      6801842 │ 2018-11-30 19:20:49+01   │      170 │  577531.2432517316 │\n",
       "│     12506592 │ 2021-05-26 01:59:57+02   │      136 │   527673.911817796 │\n",
       "│     12461692 │ 2021-05-19 02:44:33+02   │      261 │  500081.9362541297 │\n",
       "│     15433542 │ 2022-08-29 12:19:06+02   │      249 │ 500057.21377944015 │\n",
       "│     12249042 │ 2021-04-16 06:42:05+02   │      220 │ 451389.63398052484 │\n",
       "│      8557492 │ 2019-09-16 03:19:00+02   │      195 │   401428.496753504 │\n",
       "│         ·    │           ·              │       ·  │           ·        │\n",
       "│         ·    │           ·              │       ·  │           ·        │\n",
       "│         ·    │           ·              │       ·  │           ·        │\n",
       "│     16980417 │ 2023-04-05 07:05:35+02   │      189 │  75332.99402464993 │\n",
       "│      6803792 │ 2018-12-01 03:02:16+01   │      117 │   75052.5613504994 │\n",
       "│      4517417 │ 2017-11-09 03:56:08+01   │       74 │  73095.49488417266 │\n",
       "│     15057967 │ 2022-07-01 19:36:24+02   │      128 │  72867.45483578037 │\n",
       "│      4256642 │ 2017-09-10 00:01:58+02   │      220 │  72729.55832279366 │\n",
       "│     20588692 │ 2024-08-23 05:41:59+02   │      158 │  72578.82440608199 │\n",
       "│      4647117 │ 2017-11-30 02:16:35+01   │      229 │  72144.62832217678 │\n",
       "│     15936642 │ 2022-11-10 03:29:11+01   │      331 │  72048.69152720096 │\n",
       "│      4154792 │ 2017-08-14 03:12:36+02   │      177 │  71933.43428058786 │\n",
       "│      4183617 │ 2017-08-21 01:39:58+02   │      160 │   71682.7563604907 │\n",
       "├──────────────┴──────────────────────────┴──────────┴────────────────────┤\n",
       "│ 100 rows (20 shown)                                           4 columns │\n",
       "└─────────────────────────────────────────────────────────────────────────┘"
      ]
     },
     "execution_count": 65,
     "metadata": {},
     "output_type": "execute_result"
    }
   ],
   "source": [
    "%%time\n",
    "\n",
    "get_eth_per_block(\"2017-01-01\", \"2024-12-31\")"
   ]
  },
  {
   "cell_type": "code",
   "execution_count": null,
   "id": "a41aee13-a953-4e81-8da2-fcbe135efe6e",
   "metadata": {},
   "outputs": [],
   "source": []
  }
 ],
 "metadata": {
  "kernelspec": {
   "display_name": "Python 3 (ipykernel)",
   "language": "python",
   "name": "python3"
  },
  "language_info": {
   "codemirror_mode": {
    "name": "ipython",
    "version": 3
   },
   "file_extension": ".py",
   "mimetype": "text/x-python",
   "name": "python",
   "nbconvert_exporter": "python",
   "pygments_lexer": "ipython3",
   "version": "3.10.12"
  }
 },
 "nbformat": 4,
 "nbformat_minor": 5
}
